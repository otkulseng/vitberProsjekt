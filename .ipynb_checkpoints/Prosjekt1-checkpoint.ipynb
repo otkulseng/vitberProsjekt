{
 "cells": [
  {
   "cell_type": "markdown",
   "metadata": {},
   "source": [
    "# Plan og arbeidsflyt i GiHub\n",
    "\n"
   ]
  },
  {
   "cell_type": "markdown",
   "metadata": {},
   "source": [
    "1. åpne terminalen i mappen lokalt på deres maskin.\n",
    "2. kjør kommandoene:\n",
    "\n",
    "git fetch origin $$$$\n",
    "git pull origin master$$$$\n",
    "\n",
    "3. Da vil master-branchen oppdateres lokalt hos dere. Nå skal dere lage en branch hvor den nye koden skal skrives. Velg et navn til branchen (gjerne noe deksriptivt), og kjør kommandoen.\n",
    "\n",
    "$$$$\n",
    "git checkout -b NAVN $$$$\n",
    "\n",
    "3. hvor NAVN er navnet dere valgte (NAVN må være uten mellomrom). Dere må også passe på å ikke lage branch-navn som krasjer (altså, hvis både trond og ola lager branchen 'feature', så vil alt bli ødelagt :) )\n",
    "\n",
    "\n",
    "\n",
    "4. Nå kan dere gjøre endringer fritt. Pass dog på at dere skriver i den SAMME cellen i jupyter. Dette er viktig. Vi tildeler celler sammen, så ikke start å jobbe før vi har blitt enig om celler. \n",
    "\n",
    "5. Når dere er ferdig å jobbe, kjør kommandoene:\n",
    "\n",
    "$$$$\n",
    "git add .$$$$\n",
    "git commit -m \"MELDING\"$$$$\n",
    "\n",
    "5. og bytt ut MELDING med en myyye mer deskriptiv mld. Dette er også viktig, da denne meldingen kan brukes til å finne tilbake til gammel kode\n",
    "\n",
    "6. dytt koden til github ved å kjøre kommandoen: \n",
    "\n",
    "$$$$\n",
    "git push origin NAVN $$$$\n",
    "\n",
    "6. hvor NAVN igjen er navnet på branchen\n",
    "\n",
    "7. send mld til oss andre hvis dere har pushet en branch til github. Da må vi nemlig gå inn på github og gjennomføre en \"Pull-request\"."
   ]
  },
  {
   "cell_type": "markdown",
   "metadata": {},
   "source": [
    "# Prosjekt 1 - bio"
   ]
  },
  {
   "cell_type": "markdown",
   "metadata": {},
   "source": [
    "## Innhold\n",
    "* [Introduksjon](#intro)\n",
    "* [...](#2.)\n",
    "* [Oppgave 2](#o2)\n",
    "* [...](#4.)\n",
    "* [Konklusjon](#konk)"
   ]
  },
  {
   "cell_type": "markdown",
   "metadata": {},
   "source": [
    "## Introduksjon <a class=\"anchor\" id=\"intro\"></a>"
   ]
  },
  {
   "cell_type": "markdown",
   "metadata": {},
   "source": [
    "Introduksjon kommer her"
   ]
  },
  {
   "cell_type": "code",
   "execution_count": 3,
   "metadata": {},
   "outputs": [],
   "source": [
    "## Libraries\n",
    "from numba import jit\n",
    "from numba.core.errors import NumbaDeprecationWarning, NumbaPendingDeprecationWarning\n",
    "import warnings\n",
    "\n",
    "# Remove annoying deprecation warnings\n",
    "warnings.simplefilter('ignore', category=NumbaDeprecationWarning)\n",
    "warnings.simplefilter('ignore', category=NumbaPendingDeprecationWarning)\n",
    "\n",
    "#Hvordan bruke jit for å speede opp koden: basically legg til \n",
    "#@jit(nopython=True)\n",
    "#def some_func():\n",
    "#    return\n",
    "#over hver eneste funksjon. Men vent med å gjøre det til vi har testet ferdig koden (har noe med feilmeldingene å gjøre)\n",
    "\n",
    "\n",
    "import numpy as np\n",
    "\n",
    "import matplotlib.pyplot as plt\n",
    "import matplotlib.colors as c\n",
    "import scipy.constants as sc\n",
    "\n",
    "bolzmann = sc.Boltzmann \n",
    "epsilon0 = sc.epsilon_0\n",
    "elemcharge = sc.e\n",
    "epsilonr = 78\n",
    "a = 23.0e-6\n",
    "\n",
    "alpha = sc.e **2 / (4 * np.pi * epsilon0*epsilonr*a**2)\n",
    "\n",
    "k_energy = alpha/bolzmann\n"
   ]
  },
  {
   "cell_type": "code",
   "execution_count": null,
   "metadata": {},
   "outputs": [],
   "source": []
  },
  {
   "cell_type": "markdown",
   "metadata": {},
   "source": [
    "1a"
   ]
  },
  {
   "cell_type": "code",
   "execution_count": 4,
   "metadata": {},
   "outputs": [],
   "source": [
    "##1a\n",
    "\n",
    "def generate_grid_of_monomers(N, M):\n",
    "    \"\"\"\n",
    "        input: int N, int M: N is the grid-dimension. M is the number of positive and negative monomers\n",
    "        output: N x N grid of i2-integers. 2M of which is either positive ore negative, the rest 0\n",
    "    \"\"\"\n",
    "    grid = np.zeros((N, N), dtype=np.dtype('i2'))\n",
    "    \n",
    "    num = M\n",
    "    while (num > 0):\n",
    "        i = np.random.randint(0, N)    #choose random coordinates to place monomer\n",
    "        j = np.random.randint(0, N)\n",
    "        if grid[i][j] == 0:            #place monomer if there isn't one there already\n",
    "            grid[i][j] = -num\n",
    "            num -= 1                   #decrement inside if, ensuring M monomers int total are placed\n",
    "            \n",
    "    num = M\n",
    "    while (num > 0):\n",
    "        i = np.random.randint(0, N)\n",
    "        j = np.random.randint(0, N)\n",
    "        if grid[i][j] == 0:\n",
    "            grid[i][j] = num\n",
    "            num -= 1\n",
    "    \n",
    "    return grid\n",
    "\n",
    "@jit(nopython=True)\n",
    "def generate_grid_of_monomers_fast(N, M):\n",
    "    \"\"\"\n",
    "        input: int N, int M: N is the grid-dimension. M is the number of positive and negative monomers\n",
    "        output: N x N grid of i2-integers. 2M of which is either positive ore negative, the rest 0\n",
    "    \"\"\"\n",
    "    grid = np.zeros((N, N), dtype=np.dtype('i2'))\n",
    "    \n",
    "    num = M\n",
    "    while (num > 0):\n",
    "        i = np.random.randint(0, N)    #choose random coordinates to place monomer\n",
    "        j = np.random.randint(0, N)\n",
    "        if grid[i][j] == 0:            #place monomer if there isn't one there already\n",
    "            grid[i][j] = -num\n",
    "            num -= 1                   #decrement inside if, ensuring M monomers int total are placed\n",
    "            \n",
    "    num = M\n",
    "    while (num > 0):\n",
    "        i = np.random.randint(0, N)\n",
    "        j = np.random.randint(0, N)\n",
    "        if grid[i][j] == 0:\n",
    "            grid[i][j] = num\n",
    "            num -= 1\n",
    "    \n",
    "    return grid\n",
    "\n"
   ]
  },
  {
   "cell_type": "markdown",
   "metadata": {},
   "source": [
    "1b"
   ]
  },
  {
   "cell_type": "code",
   "execution_count": 5,
   "metadata": {},
   "outputs": [
    {
     "data": {
      "image/png": "[encoded data removed]",
      "text/plain": [
       "<Figure size 720x720 with 1 Axes>"
      ]
     },
     "metadata": {
      "needs_background": "light"
     },
     "output_type": "display_data"
    }
   ],
   "source": [
    "##1b\n",
    "\n",
    "def visualize_grid(grid):\n",
    "    \"\"\"\n",
    "        input: grid, 2d grid of signed integers\n",
    "        function: visualizing the signed grid, different color for positive, negative and zero\n",
    "        return: none\n",
    "    \"\"\"\n",
    "    #defining colors for map\n",
    "    purple = np.array([120, 28, 178])/255\n",
    "    blue = np.array([159, 220, 233])/255\n",
    "    green = np.array([11, 138, 0])/255\n",
    "    cMap = c.ListedColormap([purple, blue, green])\n",
    "    \n",
    "    # Make grid have only -1, 0 and 1. [::-1,] flips the rows\n",
    "    sign_grid = np.sign(grid[::-1,])\n",
    "    \n",
    "    # Plotting as a colormesh\n",
    "    fig, ax = plt.subplots(1, 1, figsize=(10, 10))\n",
    "    ax.pcolormesh(sign_grid, cmap = cMap)\n",
    "\n",
    "visualize_grid(generate_grid_of_monomers(20, 20))"
   ]
  },
  {
   "cell_type": "markdown",
   "metadata": {},
   "source": [
    "1c"
   ]
  },
  {
   "cell_type": "code",
   "execution_count": 6,
   "metadata": {},
   "outputs": [],
   "source": [
    "##1c\n",
    "\n",
    "def nearest_neighbors(i, j, N):\n",
    "    \"\"\"\n",
    "        input: int i, int j, int N. (i, j) is a coordinate in a grid, N is the size of the grid (N x N)\n",
    "        output: list of the four neighboring points of (i, j). Right side connected to left and top to bottom\n",
    "    \"\"\"\n",
    "    top = [i, (j-1+N)%N]\n",
    "    right = [(i+1)%N, j]\n",
    "    bottom = [i, (j +1)%N]\n",
    "    left = [(i-1 + N)%N, j]\n",
    "    return [top, right, bottom, left]\n",
    "\n",
    "def test_nearest_neighbors():\n",
    "    neighbors = {}\n",
    "    #some random values\n",
    "    neighbors[(10, 12, 20)] = [[10, 11], [11, 12], [10, 13], [ 9, 12]]\n",
    "    neighbors[(0, 12, 20)] = [[ 0, 11], [ 1, 12], [ 0, 13], [19, 12]]\n",
    "    neighbors[(0, 12, 15)] = [[ 0, 11], [ 1, 12], [ 0, 13], [14, 12]]\n",
    "    neighbors[(38, 38, 39)] = [[ 38, 37], [ 0, 38], [38, 0], [37, 38]]\n",
    "    \n",
    "    correct = 0\n",
    "    for key, val in neighbors.items():\n",
    "        i, j, N = key\n",
    "        if nearest_neighbors(i, j, N) ==  val:\n",
    "            correct += 1\n",
    "    print(f'the number of correct: {correct} of {len(neighbors)}')\n",
    "    \n",
    "@jit(nopython=True)\n",
    "def nearest_neighbors_fast(i, j, N):\n",
    "    \"\"\"\n",
    "        input: int i, int j, int N. (i, j) is a coordinate in a grid, N is the size of the grid (N x N)\n",
    "        output: list of the four neighboring points of (i, j). Right side connected to left and top to bottom\n",
    "    \"\"\"\n",
    "    top = [i, (j-1+N)%N]\n",
    "    right = [(i+1)%N, j]\n",
    "    bottom = [i, (j +1)%N]\n",
    "    left = [(i-1 + N)%N, j]\n",
    "    return [top, right, bottom, left]\n"
   ]
  },
  {
   "cell_type": "markdown",
   "metadata": {},
   "source": [
    "### 1d\n",
    "\n",
    "$$V_{kl} = ... = $$\n",
    "\n",
    "Energy given by ... approximations ...:\n",
    "\n",
    "$$V_{kl} = \\begin{cases} w_k w_l α & \\text{if } \\vec{r}_k \\text{ and } \\vec{r}_l \\text{ are NN,}\\\\ \n",
    "0 & \\text{otherwise}.\\end{cases}$$\n",
    "\n",
    "For en rute i griden er altså energien gitt som:\n",
    "\n",
    "$$V_{rute} = \\sum_{NN} w_{rute}w_{NN}\\alpha = w_{rute}\\alpha\\sum_{NN}w_{NN}$$\n",
    "Alt vi trenger er altså nettoladning til naboer $\\cdot$ ladning til ruta $\\cdot$ en konstant.\n",
    "For å få tall av fin størrelsesorden innfører vi den dimmensjonsløse energistørrelsen $V/\\alpha$."
   ]
  },
  {
   "cell_type": "code",
   "execution_count": 7,
   "metadata": {},
   "outputs": [
    {
     "name": "stdout",
     "output_type": "stream",
     "text": [
      "The functions gave the same answer 60 of 60 times\n",
      "The average ratio of execution_time old/new: 2.9680891190071805\n"
     ]
    }
   ],
   "source": [
    "##1d\n",
    "import time\n",
    "\n",
    "def total_energy(grid):\n",
    "    \"\"\"\n",
    "        input: grid of size (N x N)\n",
    "        output: total energy of grid / alpha\n",
    "    \"\"\"\n",
    "    # create grid of charge signs\n",
    "    sign_grid = np.sign(grid)\n",
    "\n",
    "    # energy between each square and top, bottom, left and right neighbour\n",
    "    top    = sign_grid * np.roll(sign_grid, 1, axis = 0)\n",
    "    bottom = sign_grid * np.roll(sign_grid, -1, axis = 0)\n",
    "    left   = sign_grid * np.roll(sign_grid, 1, axis = 1)\n",
    "    right  = sign_grid * np.roll(sign_grid, -1, axis = 1)\n",
    "    \n",
    "    # energy grid\n",
    "    energy = top + bottom + left + right\n",
    "    \n",
    "    return 1/2 * (np.sum(energy)) #account for double count\n",
    "\n",
    "\n",
    "@jit(nopython=True)\n",
    "def total_energy_fast(grid):\n",
    "    \"\"\"\n",
    "        input: grid of size (N x N)\n",
    "        output: total energy of grid / alpha\n",
    "    \"\"\"\n",
    "    # create grid of charge signs\n",
    "    sign_grid = np.sign(grid)\n",
    "    E = sign_grid[0] * 0\n",
    "    # energy between each square and top, bottom, left and right neighbour\n",
    "    for row in sign_grid:\n",
    "        E += row*np.roll(row, -1)\n",
    "        E += row*np.roll(row, 1)\n",
    "    for row in sign_grid.T:\n",
    "        E += row*np.roll(row, -1)\n",
    "        E += row*np.roll(row, 1)\n",
    "        \n",
    "    return 1/2 * np.sum(E) #account for double count\n",
    "\n",
    "\n",
    "def test_energy_functions(k):\n",
    "    if k < 1:\n",
    "        return\n",
    "    \n",
    "    count_right = 0\n",
    "    ratio = 0\n",
    "    for j in range(k):\n",
    "        N = 20\n",
    "        M = 50\n",
    "        grid = generate_grid_of_monomers(N, M)\n",
    "        t1 = time.perf_counter()\n",
    "        E1 = total_energy(grid)\n",
    "        t1 = time.perf_counter()-t1\n",
    "        \n",
    "        t2 = time.perf_counter()\n",
    "        E2 = total_energy_fast(grid)\n",
    "        t2 = time.perf_counter()-t2\n",
    "        count_right += (E1==E2)\n",
    "        ratio += t1/t2\n",
    "        \n",
    "    print(f'The functions gave the same answer {count_right} of {k} times')\n",
    "    print(f'The average ratio of execution_time old/new: {ratio/k}')\n",
    "    \n",
    "test_energy_functions(60)\n",
    "\n",
    "  \n",
    "########## LAGRE GRID I 1b og BEREGN ENERGIEN HER!!!!!!!!!"
   ]
  },
  {
   "cell_type": "markdown",
   "metadata": {},
   "source": [
    "1e"
   ]
  },
  {
   "cell_type": "code",
   "execution_count": 8,
   "metadata": {},
   "outputs": [],
   "source": [
    "##1e\n",
    "\n",
    "def swap(grid, coord1, coord2):\n",
    "    x1, y1 = coord1\n",
    "    x2, y2 = coord2\n",
    "    \n",
    "    temp_val = grid[x1][y1]\n",
    "    grid[x1][y1] = grid[x2][y2]\n",
    "    grid[x2][y2] = temp_val\n",
    "    \n",
    "\n",
    "def move_monomer(coords, direction, grid):\n",
    "    neighbors = nearest_neighbors(i=coords[0], j=coords[1], N=grid.shape[0])\n",
    "    move = neighbors[direction]\n",
    "    move_val = grid[move[0]][move[1]]\n",
    "    \n",
    "    return move, move_val==0\n",
    " \n",
    "    \n",
    "def monte_carlo_sim(Ns, N, M, T, grid, sim_id=\"\", save=True):\n",
    "    e = np.zeros(Ns, dtype=\"float64\") #list of the energies\n",
    "    E = total_energy(grid)\n",
    "    e[0] = E\n",
    "    for i in range(Ns):\n",
    "        monomer = np.random.randint(1, M+1)\n",
    "        sign = int(2*(np.random.randint(2) - 0.5))\n",
    "        monomer_coordinates = np.argwhere(grid==monomer*sign)[0]\n",
    "        direction = np.random.randint(0, 4) # 0: up, 1: right, 2: down, 3: left\n",
    "        move, legal_move = move_monomer(monomer_coordinates, direction, grid)\n",
    "        if legal_move:\n",
    "            swap(grid, move, monomer_coordinates)\n",
    "            Enew = total_energy(grid)\n",
    "            if Enew < E:\n",
    "                E = Enew \n",
    "            elif np.random.random() < np.exp(-k_energy*(Enew-E)/T):\n",
    "                E = Enew\n",
    "            else:\n",
    "                swap(grid, move, monomer_coordinates) # swapping back if the grid shouldnt be updated\n",
    "        \n",
    "        e[i] = E\n",
    "        \n",
    "    if save:\n",
    "        np.savez(f'data/Ns={Ns} N={N} M={M} T={T} {sim_id}.npz', energy=e, grid=grid)\n",
    "    return e\n",
    "\n",
    "def load_file(Ns, N, M, T, sim_id=\"\"):\n",
    "    return np.load(f'data/Ns={Ns} N={N} M={M} T={T} {sim_id}.npz')\n",
    "\n",
    "@jit(nopython=True)\n",
    "def swap_fast(grid, coord1, coord2):\n",
    "    x1, y1 = coord1\n",
    "    x2, y2 = coord2\n",
    "    \n",
    "    temp_val = grid[x1][y1]\n",
    "    grid[x1][y1] = grid[x2][y2]\n",
    "    grid[x2][y2] = temp_val\n",
    "\n",
    "@jit(nopython=True)\n",
    "def move_monomer_fast(coords, direction, grid):\n",
    "    neighbors = nearest_neighbors_fast(i=coords[0], j=coords[1], N=grid.shape[0])\n",
    "    move = neighbors[direction]\n",
    "    move_val = grid[move[0]][move[1]]\n",
    "\n",
    "    return move, move_val==0\n",
    "\n",
    "@jit(nopython=True)\n",
    "def monte_carlo_sim_fast(Ns, N, M, T, grid):\n",
    "    e = np.zeros(Ns, dtype=\"float64\") #list of the energies\n",
    "    E = total_energy_fast(grid)\n",
    "    e[0] = E\n",
    "    for i in range(Ns):\n",
    "        monomer = np.random.randint(1, M+1)\n",
    "        sign = int(2*(np.random.randint(2) - 0.5))\n",
    "        monomer_coordinates = np.argwhere(grid==monomer*sign)[0]\n",
    "        direction = np.random.randint(0, 4) # 0: up, 1: right, 2: down, 3: left\n",
    "        move, legal_move = move_monomer_fast(monomer_coordinates, direction, grid)\n",
    "        if legal_move:\n",
    "            swap_fast(grid, move, monomer_coordinates)\n",
    "            Enew = total_energy_fast(grid)\n",
    "            if Enew < E:\n",
    "                E = Enew \n",
    "            elif np.random.random() < np.exp(-k_energy*(Enew-E)/T):\n",
    "                E = Enew\n",
    "            else:\n",
    "                swap_fast(grid, move, monomer_coordinates) # swapping back if the grid shouldnt be updated\n",
    "        \n",
    "        e[i] = E\n",
    "\n",
    "    return e\n",
    "        "
   ]
  },
  {
   "cell_type": "markdown",
   "metadata": {},
   "source": [
    "1f"
   ]
  },
  {
   "cell_type": "code",
   "execution_count": 9,
   "metadata": {},
   "outputs": [
    {
     "data": {
      "text/plain": [
       "[<matplotlib.lines.Line2D at 0x7f2e57b7b0a0>]"
      ]
     },
     "execution_count": 9,
     "metadata": {},
     "output_type": "execute_result"
    },
    {
     "data": {
      "image/png": "[encoded data removed]",
      "text/plain": [
       "<Figure size 720x720 with 1 Axes>"
      ]
     },
     "metadata": {
      "needs_background": "light"
     },
     "output_type": "display_data"
    },
    {
     "data": {
      "image/png": "[encoded data removed]",
      "text/plain": [
       "<Figure size 1224x360 with 1 Axes>"
      ]
     },
     "metadata": {
      "needs_background": "light"
     },
     "output_type": "display_data"
    }
   ],
   "source": [
    "##1f\n",
    "N = 15\n",
    "M = 25\n",
    "grid = generate_grid_of_monomers(N, M)\n",
    "\n",
    "#E = monte_carlo_sim(100000, N, M, 200, grid, 1)\n",
    "\n",
    "data = load_file(50000, N, M, 500, 1)\n",
    "visualize_grid(data['grid'])\n",
    "fig, ax = plt.subplots(1, 1, figsize=(17, 5))\n",
    "ax.plot(data['energy'])"
   ]
  },
  {
   "cell_type": "markdown",
   "metadata": {},
   "source": [
    "1g"
   ]
  },
  {
   "cell_type": "code",
   "execution_count": 10,
   "metadata": {},
   "outputs": [],
   "source": [
    "##1g\n",
    "##1g\n",
    "\n",
    "def add_to_cluster(i, j, num, grid, cluster_grid):\n",
    "    #adds index i,j and all connected monomers to cluster identified by num on the cluster_grid\n",
    "    if cluster_grid[i][j] == 0 and grid[i][j] != 0:\n",
    "        cluster_grid[i][j] = num\n",
    "        neighbors = nearest_neighbors(i, j, len(grid))\n",
    "      \n",
    "        for neighbor in neighbors: \n",
    "            add_to_cluster (neighbor[0],neighbor[1], num, grid, cluster_grid)\n",
    "        \n",
    "       \n",
    "                \n",
    "    \n",
    "\n",
    "def get_cluster_grid (grid):\n",
    "    #input: grid is a grid of monomers of which you want to generate a corresponding cluster grid\n",
    "    #output: grid where all monomers belonging to the same cluster are represented by the a unique positive number\n",
    "   \n",
    "    cluster_grid = np.zeros((len(grid), len(grid)), dtype=np.dtype('i2'))\n",
    "    num = 1\n",
    "                                      \n",
    "    for i in range(len(grid)):\n",
    "        for j in range(len(grid)):\n",
    "            if cluster_grid[i][j]== 0 and grid[i][j] != 0:\n",
    "                add_to_cluster(i, j, num, grid, cluster_grid)\n",
    "                num += 1\n",
    "    \n",
    "    return cluster_grid, num-1            \n",
    "\n",
    "@jit(nopython=True)\n",
    "def add_to_cluster_fast(i, j, num, grid, cluster_grid):\n",
    "    #adds index i,j and all connected monomers to cluster identified by num on the cluster_grid\n",
    "    if cluster_grid[i][j] == 0 and grid[i][j] != 0:\n",
    "        cluster_grid[i][j] = num\n",
    "        neighbors = nearest_neighbors_fast(i, j, len(grid))\n",
    "      \n",
    "        for neighbor in neighbors: \n",
    "            add_to_cluster_fast(neighbor[0],neighbor[1], num, grid, cluster_grid)\n",
    "        \n",
    "       \n",
    "                \n",
    "@jit(nopython=True)\n",
    "def get_cluster_grid_fast(grid):\n",
    "    #input: grid is a grid of monomers of which you want to generate a corresponding cluster grid\n",
    "    #output: grid where all monomers belonging to the same cluster are represented by the a unique positive number\n",
    "   \n",
    "    cluster_grid = np.zeros((len(grid), len(grid)), dtype=np.dtype('i2'))\n",
    "    num = 1\n",
    "                                      \n",
    "    for i in range(len(grid)):\n",
    "        for j in range(len(grid)):\n",
    "            if cluster_grid[i][j]== 0 and grid[i][j] != 0:\n",
    "                add_to_cluster_fast(i, j, num, grid, cluster_grid)\n",
    "                num += 1\n",
    "    \n",
    "    return cluster_grid, num-1  \n",
    "                                      \n"
   ]
  },
  {
   "cell_type": "markdown",
   "metadata": {},
   "source": [
    "1h"
   ]
  },
  {
   "cell_type": "code",
   "execution_count": 11,
   "metadata": {},
   "outputs": [],
   "source": [
    "#1h\n",
    "\n",
    "def average_d_sim(N, M, temps, s=1/200, C=10000, t_max=100000, n=100, t_r=1000):\n",
    "    \n",
    "    d = np.zeros(len(temps))\n",
    "    for j in range(len(temps)):\n",
    "        print(f'beginning on temp {j+1}/{len(temps)}')\n",
    "        T = temps[j]\n",
    "        grid = generate_grid_of_monomers(N, M)\n",
    "        t_equil = t_max * np.exp(-s*(T - temps[0])) + C\n",
    "        Ns = int(t_equil)\n",
    "        monte_carlo_sim(Ns, N, M, T, grid, save=False)\n",
    "        \n",
    "        d_avg = 0\n",
    "        for i in range(n):\n",
    "            monte_carlo_sim(t_r, N, M, T, grid, save=False)\n",
    "            d_avg += 1/get_cluster_grid(grid)[1]\n",
    "            \n",
    "        d[j] = d_avg / n * 2 * M\n",
    "    np.savez(f'data/davg/temps={temps} s={s} C={C} tmax={t_max} n={n} tr={t_r}.npz', d=d)\n",
    "    return d\n",
    "            \n",
    "def load_avg_d(temps, s=1/200, C=10000, t_max=100000, n=100, t_r=1000):\n",
    "    return np.load(f'data/davg/temps={temps} s={s} C={C} tmax={t_max} n={n} tr={t_r}.npz')\n",
    "    \n",
    "# Temperatures = np.linspace(100, 1000, 21)\n",
    "# t0=time.perf_counter()\n",
    "# d = load_avg_d(Temperatures)['d']\n",
    "# print(f'execution time: {time.perf_counter()-t0}s')\n",
    "# plt.plot(Temperatures, d)\n",
    "\n",
    "@jit(nopython=True)\n",
    "def average_d_sim_fast(N, M, temps, s=1/200, C=10000, t_max=100000, n=100, t_r=1000):\n",
    "    d = np.zeros(len(temps), dtype=\"float64\")\n",
    "    for j in range(len(temps)):\n",
    "        T = temps[j]\n",
    "        grid = generate_grid_of_monomers_fast(N, M)\n",
    "        t_equil = t_max * np.exp(-s*(T - temps[0])) + C\n",
    "        Ns = int(t_equil)\n",
    "        monte_carlo_sim_fast(Ns, N, M, T, grid)\n",
    "        \n",
    "        d_avg = 0\n",
    "        for i in range(n):\n",
    "            monte_carlo_sim_fast(t_r, N, M, T, grid)\n",
    "            d_avg += 1/get_cluster_grid_fast(grid)[1]\n",
    "            \n",
    "        d[j] = (d_avg / n) * 2 * M\n",
    "    return d\n",
    "\n",
    "\n",
    "# N=15\n",
    "# M=25\n",
    "\n",
    "# Temperatures = np.linspace(100, 1000, 21)\n",
    "# t0=time.perf_counter()\n",
    "# d = average_d_sim_fast(N, M, Temperatures, n=100)\n",
    "# print(f'execution time: {time.perf_counter()-t0}s')\n",
    "# plt.plot(Temperatures, d)\n"
   ]
  },
  {
   "cell_type": "markdown",
   "metadata": {},
   "source": [
    "# Oppgave 2  <a class=\"anchor\" id=\"o2\"></a>"
   ]
  },
  {
   "cell_type": "markdown",
   "metadata": {},
   "source": [
    "2a"
   ]
  },
  {
   "cell_type": "code",
   "execution_count": 12,
   "metadata": {},
   "outputs": [],
   "source": [
    "#2a\n",
    "def build_polymer(grid, N, L, num):\n",
    "    # next we place L-1 monomers around it\n",
    "    num2 = L - 1\n",
    "    while (num2 > 0):\n",
    "        i2 = np.random.randint(0, N) \n",
    "        j2 = np.random.randint(0, N)\n",
    "        neighbours   = nearest_neighbors(i2, j2, N)\n",
    "        neighbourNum = [grid[neigh[0]][neigh[1]] for neigh in neighbours]\n",
    "        if grid[i2][j2] == 0 and num in neighbourNum:\n",
    "            grid[i2][j2] = num\n",
    "            num2 -= 1\n",
    "    return grid\n",
    "\n",
    "def generate_grid_of_polymers(N, M, L):\n",
    "    \"\"\"\n",
    "        input: int N, M, L: N is grid-dimension. \n",
    "        M is #polymers. L is multivalency\n",
    "        output: N x N grid of polymers.\n",
    "    \"\"\"\n",
    "    grid = np.zeros((N, N), dtype=np.dtype('i2'))\n",
    "    \n",
    "    num = M\n",
    "    while (num > 0):\n",
    "        i = np.random.randint(0, N) # choose random coordinates to place first monomer\n",
    "        j = np.random.randint(0, N)\n",
    "        if grid[i][j] == 0:         # place monomer if there isn't one there already\n",
    "            grid[i][j] = -num\n",
    "            grid = build_polymer(grid, N, L, -num)\n",
    "            num -= 1 #decrement inside if, ensuring M polymers in total are placed\n",
    "\n",
    "                    \n",
    "    num = M\n",
    "    while (num > 0):\n",
    "        i = np.random.randint(0, N)\n",
    "        j = np.random.randint(0, N)\n",
    "        if grid[i][j] == 0:\n",
    "            grid[i][j] = num\n",
    "            grid = build_polymer(grid, N, L, num)\n",
    "            num -= 1\n",
    "    \n",
    "    return grid\n",
    "\n",
    "\n",
    "#visualize_grid(grid, signonly = False) holder på å fikse farge greiene i visualize_grid"
   ]
  },
  {
   "cell_type": "markdown",
   "metadata": {},
   "source": [
    "2b"
   ]
  },
  {
   "cell_type": "code",
   "execution_count": 13,
   "metadata": {},
   "outputs": [
    {
     "name": "stdout",
     "output_type": "stream",
     "text": [
      "[[ 0  0  0  0  0  0  0  0  0  1  0  1  0  0  0  0  0  0 -3  0]\n",
      " [ 0  0  0  0  0  0  0  0  0  1  1  1  0  0  0  0  0 -3 -3  0]\n",
      " [ 0  0  0  0  0  0  0  0  0  0  1  1  0  0  0  0  0  0 -3  0]\n",
      " [-3  0  0  0  0  0  0  0  0  0  1  0  0  0  0  0  0  0 -3 -3]\n",
      " [ 0  0  0  0  0  0  0  0  0  0  0  0  0  0  0  0  0  0 -3  0]\n",
      " [ 0  0  0  0  0  0  0  0  0  0  0  0  0  0  0  0  0  0  0  0]\n",
      " [ 0  0  0  0  0  2  0  4  4  0  4  4  0  0  0  0  0  0  0  0]\n",
      " [ 0  0  0  2  0  2  2  0  4  4  4  4  0  0  0  0  0  0  0  0]\n",
      " [ 0  3  3  2  2  2  2  0  0  0  0  4  4  0  0  0  0  0  0  0]\n",
      " [ 3  3  0  0  0  2  0  0  0  0  0  0  0  0  0  0  0  0  0  0]\n",
      " [ 3  3  3  0  0  2  0  0  0  0  0  0  0  0  0  0  0  0  0  3]\n",
      " [ 0  3  0  0  0  0  0  0  0  0  0  0  0  0  0  0  0  0  0  0]\n",
      " [ 0  3  0  0  0  0  0  0  0  0  0  0  0  0  0  0  0  0  0  0]\n",
      " [ 0  0  0  0  0  0 -1  0  0  0  0  0  0  0  0  0  0  0  0  0]\n",
      " [ 0  0 -4 -4 -1 -1 -1  0  0  0  0  0  0  0  0  0  0  0  0  0]\n",
      " [ 0 -4 -4 -4 -4 -1 -1 -1  0  0  0  0  0  0  0  0  0 -2 -2  0]\n",
      " [ 0  0 -4 -4  0  0 -1 -1  0  0  0  0  0  0  0  0  0 -2  0  0]\n",
      " [ 0  0 -4 -4  0  0 -1  0  0  0  0  0  0  0  0  0  0 -2 -2  0]\n",
      " [ 0  0  0  0  0  0  0  0  0  1  0  0  0  0  0 -2 -2 -2  0  0]\n",
      " [ 0  0  0  0  0  0  0  0  0  1  0  0  0  0  0 -2  0 -2 -3 -3]]\n",
      "10\n",
      "86.0\n"
     ]
    }
   ],
   "source": [
    "#2b\n",
    "\n",
    "def polymer_total_energy(grid):\n",
    "    N = grid.shape[0]\n",
    "    \n",
    "    E = 0\n",
    "    for i in range(N):\n",
    "        for j in range(N):\n",
    "            neighbors = nearest_neighbors(i, j, N)\n",
    "            current_cluster_val = grid[i][j]\n",
    "            for neighbor in neighbors:\n",
    "                xcoord, ycoord = neighbor\n",
    "                if grid[xcoord][ycoord] != current_cluster_val:\n",
    "                    E += np.sign(current_cluster_val)*np.sign(grid[xcoord][ycoord])\n",
    "    return E\n",
    "\n",
    "grid = generate_grid_of_polymers(20, 4, 10)\n",
    "print(grid)\n",
    "print(polymer_total_energy(grid))\n",
    "print(total_energy(grid))"
   ]
  },
  {
   "cell_type": "markdown",
   "metadata": {},
   "source": [
    "2c"
   ]
  },
  {
   "cell_type": "code",
   "execution_count": 22,
   "metadata": {},
   "outputs": [
    {
     "name": "stdout",
     "output_type": "stream",
     "text": [
      "[[ 2  0  0  0 -4 -4 -4  0  0  0  0  0  0  0  0  0  0  0  0  0]\n",
      " [ 2  2  0 -4 -4 -4 -4  0  0  0  0  0  0  0  0  0  0  0  0  2]\n",
      " [ 2  2  0  0 -4  0  0  0  0  0  0  0  0  0  0  0  0  0  0  2]\n",
      " [ 2  0  0  0  0  0  0  0  0  0  0  0  0  0  0  0  0  0  0  2]\n",
      " [ 0  0  0  0 -3 -3 -3  0  0  0  0  0  0  0  0  0  0  0  0  2]\n",
      " [ 0  0  0  0  0 -3 -3  0  0  4  4  0  4  0 -2 -2  1  1  1  0]\n",
      " [ 0  0  0  0  0 -3 -3  0  0  4  4  4  4  4 -2 -2  1  0  1  0]\n",
      " [ 0  0  0  0  0 -3 -3  0  0  4  4 -2 -2 -2 -2 -2  1  1  1  0]\n",
      " [ 0  0  0  0  0 -3  0  0  0  0  0  0  0  0 -2  0  1  0  1  0]\n",
      " [ 0  0  0  0  0  0  0  0  0  0  0  0  0  0  0  0  0  0  0  0]\n",
      " [ 0  0  0  0  0  0  0  0  0  0  0  0  0  0  0  0  0  0  0  0]\n",
      " [ 0  0  0  0  0  0  0  0  0  0  0  0  0  0  0  0  0  0  0  0]\n",
      " [-1  0  0  0  0  0  0  0  0  0  0  0  0  0  0  0  0  0  0  0]\n",
      " [-1  0  0  0  0  0  0  0  0  0  0  0  0  0  0  0  0  0 -1  0]\n",
      " [-1  0  0  0  0  0  0  0  0  0  0  0  0  0  0  0 -1 -1 -1 -1]\n",
      " [-1  0  0  0  0  0  0  0  0  0  0  0  0  0  0  3  3  3  0 -1]\n",
      " [ 0  0  0  0  0  0  0  0  0  0  0  0  0  3  3  3  3  0  0  0]\n",
      " [ 0  0  0  0  0  0  0  0  0  0  0  0  0  0  0  0  3  3  3  0]\n",
      " [ 0  0  0  0  0  0  0  0  0  0  0  0  0  0  0  0  0  0  0  0]\n",
      " [ 0  0  0 -4 -4  0  0  0  0  0  0  0  0  0  0  0  0  0  0  0]]\n",
      "True\n",
      "[[ 2  0  0 -4 -4  0  0  0  0  0  0  0  0  0  0  0  0  0  0  0]\n",
      " [ 2  2  0  0  0  0  0  0  0  0  0  0  0  0  0  0  0  0  0  2]\n",
      " [ 2  2  0 -4  0 -4 -4  0  0  0  0  0  0  0  0  0  0  0  0  2]\n",
      " [ 2  0  0  0 -4  0  0  0  0  0  0  0  0  0  0  0  0  0  0  2]\n",
      " [ 0  0  0  0 -3 -3 -3  0  0  0  0  0  0  0  0  0  0  0  0  2]\n",
      " [ 0  0  0  0  0 -3 -3  0  0  4  4  0  4  0 -2 -2  1  1  1  0]\n",
      " [ 0  0  0  0  0 -3 -3  0  0  4  4  4  4  4 -2 -2  1  0  1  0]\n",
      " [ 0  0  0  0  0 -3 -3  0  0  4  4 -2 -2 -2 -2 -2  1  1  1  0]\n",
      " [ 0  0  0  0  0 -3  0  0  0  0  0  0  0  0 -2  0  1  0  1  0]\n",
      " [ 0  0  0  0  0  0  0  0  0  0  0  0  0  0  0  0  0  0  0  0]\n",
      " [ 0  0  0  0  0  0  0  0  0  0  0  0  0  0  0  0  0  0  0  0]\n",
      " [ 0  0  0  0  0  0  0  0  0  0  0  0  0  0  0  0  0  0  0  0]\n",
      " [-1  0  0  0  0  0  0  0  0  0  0  0  0  0  0  0  0  0  0  0]\n",
      " [-1  0  0  0  0  0  0  0  0  0  0  0  0  0  0  0  0  0 -1  0]\n",
      " [-1  0  0  0  0  0  0  0  0  0  0  0  0  0  0  0 -1 -1 -1 -1]\n",
      " [-1  0  0  0  0  0  0  0  0  0  0  0  0  0  0  3  3  3  0 -1]\n",
      " [ 0  0  0  0  0  0  0  0  0  0  0  0  0  3  3  3  3  0  0  0]\n",
      " [ 0  0  0  0  0  0  0  0  0  0  0  0  0  0  0  0  3  3  3  0]\n",
      " [ 0  0  0  0  0  0  0  0  0  0  0  0  0  0  0  0  0  0  0  0]\n",
      " [ 0  0  0  0  0  0  0  0  0  0  0  0  0  0  0  0  0  0  0  0]]\n",
      "False\n",
      "[[ 2  0  0 -4 -4  0  0  0  0  0  0  0  0  0  0  0  0  0  0  0]\n",
      " [ 2  2  0  0  0  0  0  0  0  0  0  0  0  0  0  0  0  0  0  2]\n",
      " [ 2  2  0 -4  0 -4 -4  0  0  0  0  0  0  0  0  0  0  0  0  2]\n",
      " [ 2  0  0  0 -4  0  0  0  0  0  0  0  0  0  0  0  0  0  0  2]\n",
      " [ 0  0  0  0 -3 -3 -3  0  0  0  0  0  0  0  0  0  0  0  0  2]\n",
      " [ 0  0  0  0  0 -3 -3  0  0  4  4  0  4  0 -2 -2  1  1  1  0]\n",
      " [ 0  0  0  0  0 -3 -3  0  0  4  4  4  4  4 -2 -2  1  0  1  0]\n",
      " [ 0  0  0  0  0 -3 -3  0  0  4  4 -2 -2 -2 -2 -2  1  1  1  0]\n",
      " [ 0  0  0  0  0 -3  0  0  0  0  0  0  0  0 -2  0  1  0  1  0]\n",
      " [ 0  0  0  0  0  0  0  0  0  0  0  0  0  0  0  0  0  0  0  0]\n",
      " [ 0  0  0  0  0  0  0  0  0  0  0  0  0  0  0  0  0  0  0  0]\n",
      " [ 0  0  0  0  0  0  0  0  0  0  0  0  0  0  0  0  0  0  0  0]\n",
      " [-1  0  0  0  0  0  0  0  0  0  0  0  0  0  0  0  0  0  0  0]\n",
      " [-1  0  0  0  0  0  0  0  0  0  0  0  0  0  0  0  0  0 -1  0]\n",
      " [-1  0  0  0  0  0  0  0  0  0  0  0  0  0  0  0 -1 -1 -1 -1]\n",
      " [-1  0  0  0  0  0  0  0  0  0  0  0  0  0  0  3  3  3  0 -1]\n",
      " [ 0  0  0  0  0  0  0  0  0  0  0  0  0  3  3  3  3  0  0  0]\n",
      " [ 0  0  0  0  0  0  0  0  0  0  0  0  0  0  0  0  3  3  3  0]\n",
      " [ 0  0  0  0  0  0  0  0  0  0  0  0  0  0  0  0  0  0  0  0]\n",
      " [ 0  0  0  0  0  0  0  0  0  0  0  0  0  0  0  0  0  0  0  0]]\n"
     ]
    }
   ],
   "source": [
    "#2c\n",
    "\n",
    "# def get_polymer_coordinates(num, grid):\n",
    "#     #input: num is a unique int identifying the polymer, and the grid of polymers\n",
    "#     #output: i and j indexes of all monomers belonging to the polymer\n",
    "    \n",
    "#     coordinates = []\n",
    "#     for i in range(len(grid)):\n",
    "#         for j in range(len(grid)):\n",
    "#             if grid[i][j]==num :\n",
    "#                 coordinates.append((i,j))\n",
    "                \n",
    "#     return coordinates\n",
    "#Gjør det samme som np.argwhere\n",
    "\n",
    "@jit(nopython=True)\n",
    "def rigid_move_polymer (direction, num, grid):\n",
    "    #input: direction represented by an int, num is a unique int identifying the polymer, and the grid of polymers\n",
    "    size = grid.shape[0]\n",
    "    polymer = np.argwhere(grid==num)\n",
    "    for monomer in polymer: \n",
    "        i, j = nearest_neighbors_fast(monomer[0], monomer[1], size)[direction]\n",
    "        \n",
    "        if (grid[i][j] != 0 and grid[i][j] != num):\n",
    "            return False\n",
    "    \n",
    "    for monomer in polymer:\n",
    "        neighbors = nearest_neighbors_fast(monomer[0], monomer[1], size)\n",
    "        i, j = neighbors[direction]\n",
    "        \n",
    "        grid[i][j] = num\n",
    "        grid[monomer[0]][monomer[1]] = 0\n",
    "                \n",
    "        \n",
    "        \n",
    "    return True\n",
    "\n",
    "#print (nearest_neighbors_fast(1,1,20))\n",
    "#grid[1][0] = 7\n",
    "#grid[2,1]=8\n",
    "#grid[1][2] = 9\n",
    "#grid[0,1]=10\n",
    "grid = generate_grid_of_polymers(20, 4, 10)\n",
    "print(grid)\n",
    "print(rigid_move_polymer(1, -4, grid) )\n",
    "print (grid)\n",
    "print(rigid_move_polymer(1, -1, grid) )\n",
    "print (grid)\n",
    "    \n",
    "    \n",
    "   "
   ]
  },
  {
   "cell_type": "markdown",
   "metadata": {},
   "source": [
    "2d"
   ]
  },
  {
   "cell_type": "code",
   "execution_count": null,
   "metadata": {},
   "outputs": [],
   "source": [
    "#2d"
   ]
  },
  {
   "cell_type": "markdown",
   "metadata": {},
   "source": [
    "2e"
   ]
  },
  {
   "cell_type": "code",
   "execution_count": null,
   "metadata": {},
   "outputs": [],
   "source": [
    "#2e"
   ]
  },
  {
   "cell_type": "markdown",
   "metadata": {},
   "source": [
    "2f"
   ]
  },
  {
   "cell_type": "code",
   "execution_count": null,
   "metadata": {},
   "outputs": [],
   "source": [
    "#2f"
   ]
  },
  {
   "cell_type": "markdown",
   "metadata": {},
   "source": [
    "2g"
   ]
  },
  {
   "cell_type": "code",
   "execution_count": null,
   "metadata": {},
   "outputs": [],
   "source": [
    "#2g"
   ]
  },
  {
   "cell_type": "markdown",
   "metadata": {},
   "source": [
    "2h"
   ]
  },
  {
   "cell_type": "code",
   "execution_count": null,
   "metadata": {},
   "outputs": [],
   "source": [
    "#2h"
   ]
  },
  {
   "cell_type": "markdown",
   "metadata": {},
   "source": [
    "# Konklusjon <a class=\"anchor\" id=\"konk\"></a>"
   ]
  }
 ],
 "metadata": {
  "kernelspec": {
   "display_name": "Python 3 (ipykernel)",
   "language": "python",
   "name": "python3"
  },
  "language_info": {
   "codemirror_mode": {
    "name": "ipython",
    "version": 3
   },
   "file_extension": ".py",
   "mimetype": "text/x-python",
   "name": "python",
   "nbconvert_exporter": "python",
   "pygments_lexer": "ipython3",
   "version": "3.8.10"
  }
 },
 "nbformat": 4,
 "nbformat_minor": 4
}
