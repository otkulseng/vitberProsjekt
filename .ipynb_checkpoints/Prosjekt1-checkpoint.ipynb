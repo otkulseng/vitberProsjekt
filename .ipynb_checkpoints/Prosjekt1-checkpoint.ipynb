{
 "cells": [
  {
   "cell_type": "markdown",
   "metadata": {},
   "source": [
    "# Plan og arbeidsflyt i GiHub\n",
    "\n"
   ]
  },
  {
   "cell_type": "markdown",
   "metadata": {},
   "source": [
    "1. åpne terminalen i mappen lokalt på deres maskin.\n",
    "2. kjør kommandoene:\n",
    "\n",
    "git fetch origin $$$$\n",
    "git pull origin master$$$$\n",
    "\n",
    "3. Da vil master-branchen oppdateres lokalt hos dere. Nå skal dere lage en branch hvor den nye koden skal skrives. Velg et navn til branchen (gjerne noe deksriptivt), og kjør kommandoen.\n",
    "\n",
    "$$$$\n",
    "git checkout -b NAVN $$$$\n",
    "\n",
    "3. hvor NAVN er navnet dere valgte (NAVN må være uten mellomrom). Dere må også passe på å ikke lage branch-navn som krasjer (altså, hvis både trond og ola lager branchen 'feature', så vil alt bli ødelagt :) )\n",
    "\n",
    "\n",
    "\n",
    "4. Nå kan dere gjøre endringer fritt. Pass dog på at dere skriver i den SAMME cellen i jupyter. Dette er viktig. Vi tildeler celler sammen, så ikke start å jobbe før vi har blitt enig om celler. \n",
    "\n",
    "5. Når dere er ferdig å jobbe, kjør kommandoene:\n",
    "\n",
    "$$$$\n",
    "git add .$$$$\n",
    "git commit -m \"MELDING\"$$$$\n",
    "\n",
    "5. og bytt ut MELDING med en myyye mer deskriptiv mld. Dette er også viktig, da denne meldingen kan brukes til å finne tilbake til gammel kode\n",
    "\n",
    "6. dytt koden til github ved å kjøre kommandoen: \n",
    "\n",
    "$$$$\n",
    "git push origin NAVN $$$$\n",
    "\n",
    "6. hvor NAVN igjen er navnet på branchen\n",
    "\n",
    "7. send mld til oss andre hvis dere har pushet en branch til github. Da må vi nemlig gå inn på github og gjennomføre en \"Pull-request\"."
   ]
  },
  {
   "cell_type": "markdown",
   "metadata": {},
   "source": [
    "# Prosjekt 1 - bio"
   ]
  },
  {
   "cell_type": "markdown",
   "metadata": {},
   "source": [
    "## Contents\n",
    "* [Introduction](#intro)\n",
    "* [Model and assumptions](#model)\n",
    "* [Monomer simulation](#monomer)\n",
    "* [Cluster formation](#cluster)\n",
    "* [Polymer simulation](#polymer)\n",
    "* [Aggregate formation](#aggregate)\n",
    "* [Conclusion](#conclusion)"
   ]
  },
  {
   "cell_type": "markdown",
   "metadata": {},
   "source": [
    "# Introduction <a class=\"anchor\" id=\"intro\"></a>"
   ]
  },
  {
   "cell_type": "markdown",
   "metadata": {},
   "source": [
    "Introduction here"
   ]
  },
  {
   "cell_type": "markdown",
   "metadata": {},
   "source": [
    "# Model and assumptions <a class=\"anchor\" id=\"model\"></a>"
   ]
  },
  {
   "cell_type": "markdown",
   "metadata": {},
   "source": []
  },
  {
   "cell_type": "code",
   "execution_count": null,
   "metadata": {},
   "outputs": [],
   "source": []
  },
  {
   "cell_type": "code",
   "execution_count": null,
   "metadata": {},
   "outputs": [],
   "source": []
  },
  {
   "cell_type": "code",
   "execution_count": 1,
   "metadata": {},
   "outputs": [],
   "source": [
    "## Libraries to make fast code\n",
    "from numba import jit\n",
    "from numba.core.errors import NumbaDeprecationWarning, NumbaPendingDeprecationWarning\n",
    "import warnings\n",
    "\n",
    "# Remove annoying deprecation warnings\n",
    "warnings.simplefilter('ignore', category=NumbaDeprecationWarning)\n",
    "warnings.simplefilter('ignore', category=NumbaPendingDeprecationWarning)\n",
    "\n",
    "## Libraries for maths, plotting and animation\n",
    "import numpy as np\n",
    "\n",
    "import matplotlib.pyplot as plt\n",
    "import matplotlib.colors as c\n",
    "import matplotlib.animation\n",
    "import scipy.constants as sc\n",
    "from IPython.display import HTML, clear_output\n",
    "\n",
    "## Importing and defining the necessary constants\n",
    "bolzmann = sc.Boltzmann \n",
    "epsilon0 = sc.epsilon_0\n",
    "elemcharge = sc.e\n",
    "epsilonr = 78\n",
    "a = 23.0e-6\n",
    "\n",
    "# This will be our unit of energy\n",
    "alpha = sc.e **2 / (4 * np.pi * epsilon0*epsilonr*a**2)\n",
    "\n",
    "# The constant in the boltzman factor-exponent\n",
    "k_energy = alpha/bolzmann"
   ]
  },
  {
   "cell_type": "code",
   "execution_count": 2,
   "metadata": {},
   "outputs": [],
   "source": [
    "## Function that generates N*N grid with 2M monomers\n",
    "@jit(nopython=True)\n",
    "def generate_grid_of_monomers_fast(N, M):\n",
    "    \"\"\"\n",
    "        input: int N, int M: N is the grid-dimension. M is the number of positive and negative monomers\n",
    "        output: N x N grid of i2-integers. 2M of which is either positive ore negative, the rest 0\n",
    "    \"\"\"\n",
    "    grid = np.zeros((N, N), dtype=np.dtype('i2'))\n",
    "    \n",
    "    num = M\n",
    "    while (num > 0):\n",
    "        i = np.random.randint(0, N)    #choose random coordinates to place monomer\n",
    "        j = np.random.randint(0, N)\n",
    "        if grid[i][j] == 0:            #place monomer if there isn't one there already\n",
    "            grid[i][j] = -num\n",
    "            num -= 1                   #decrement inside if, ensuring M monomers int total are placed\n",
    "            \n",
    "    num = M\n",
    "    while (num > 0):\n",
    "        i = np.random.randint(0, N)\n",
    "        j = np.random.randint(0, N)\n",
    "        if grid[i][j] == 0:\n",
    "            grid[i][j] = num\n",
    "            num -= 1\n",
    "    \n",
    "    return grid"
   ]
  },
  {
   "cell_type": "code",
   "execution_count": 3,
   "metadata": {},
   "outputs": [],
   "source": [
    "## Colormaps for visualising our grid\n",
    "def cMap_green_purple(lenght):\n",
    "    color_list = []\n",
    "    for i in range(0, lenght):\n",
    "        color_list.append(np.array([120 + i*100/lenght, 28, 178]) / 255) # purple\n",
    "    color_list.append(np.array([159, 220, 233]) / 255)                               # blue\n",
    "    for i in range(0, lenght):\n",
    "        color_list.append(np.array([11, 138 + i*100/lenght, 0]) / 255)   # green\n",
    "    return c.ListedColormap(color_list)\n",
    "\n",
    "def cMap_orange(lenght):\n",
    "    color_list = []\n",
    "    color_list.append(np.array([159, 220, 233]) / 255)                               # blue\n",
    "    for i in range(0, lenght):\n",
    "        color_list.append(np.array([255, 226 - i*150/lenght, 200 - i*150/lenght]) / 255)   # orange\n",
    "    return c.ListedColormap(color_list)\n",
    "\n",
    "## Function that plots and saves the grid\n",
    "def visualize_grid(grid, file_title = False, figure_title = False, signonly = True, cMap_function = cMap_green_purple, title_size = 30):\n",
    "    \"\"\"\n",
    "        input: grid, 2d grid of signed integers\n",
    "        function: visualizing the signed grid, different color for positive, negative and zero\n",
    "        return: none\n",
    "    \"\"\"\n",
    "    # make grid have only -1, 0 and 1. [::-1,] flips the rows\n",
    "    if signonly:\n",
    "        grid = np.sign(grid)\n",
    "    grid = grid[::-1,]\n",
    "    lenght_color_array = grid.max() \n",
    "    cMap = cMap_function(lenght_color_array)\n",
    "        \n",
    "    # plotting as a colormesh\n",
    "    fig, ax = plt.subplots(1, 1, figsize=(10, 10))\n",
    "    ax.pcolormesh(grid, cmap = cMap)\n",
    "    plt.axis('off')\n",
    "    \n",
    "    # adding titles and saving file    \n",
    "    if figure_title:\n",
    "        plt.title(figure_title, size = title_size)\n",
    "    if file_title:\n",
    "        fig.savefig(f'images/{file_title}.png') # save first frame  \n",
    "    \n",
    "def animate_grid(grid_list, gif_name, ms_between_frames = 10, signonly = True):\n",
    "    \"\"\"\n",
    "        input: list of N*N-grids, string gif_name, ms between frames, option to toggle different colors\n",
    "        output: saves\n",
    "    \"\"\" \n",
    "    # generate colormap. Flip grid.\n",
    "    if signonly:\n",
    "        grid_list = [np.sign(grd) for grd in grid_list]\n",
    "    grid_list = [grd[::-1,] for grd in grid_list]\n",
    "    lenght_color_array = grid_list[0].max()\n",
    "    cMap = cMap_green_purple(lenght_color_array)\n",
    "    \n",
    "    # create figure and remove axis\n",
    "    fig, ax = plt.subplots(figsize = (6, 6))\n",
    "    plt.axis('off')\n",
    "    \n",
    "    # prevent duplicate animation figure\n",
    "    clear_output()\n",
    "    \n",
    "    # for some reason the function doesn't distinguish small numbers... This is a fix\n",
    "    grid_list = [grd * 1000 for grd in grid_list]\n",
    "    \n",
    "    # create objects for the graphs that will be updated every frame\n",
    "    cax = ax.pcolormesh(grid_list[0], cmap=cMap)\n",
    "    fig.savefig(f'animations/{gif_name}_0.png') # save first frame      \n",
    "    \n",
    "    # call this function for every frame in the animation\n",
    "    def animate(i):\n",
    "        # replace previous data\n",
    "        cax.set_array(grid_list[i])\n",
    "        \n",
    "    # create matplotlib animation object\n",
    "    ani = matplotlib.animation.FuncAnimation(fig, animate, frames=len(grid_list), repeat=False, interval = ms_between_frames)\n",
    "    ani.save(f'animations/{gif_name}.gif')\n",
    "    fig.savefig(f'animations/{gif_name}_1.png') # save last frame"
   ]
  },
  {
   "cell_type": "markdown",
   "metadata": {},
   "source": [
    "Now we will implement energy function ..."
   ]
  },
  {
   "cell_type": "markdown",
   "metadata": {},
   "source": [
    "### 1d\n",
    "\n",
    "$$V_{kl} = ... = $$\n",
    "\n",
    "Energy given by ... approximations ...:\n",
    "\n",
    "$$V_{kl} = \\begin{cases} w_k w_l α & \\text{if } \\vec{r}_k \\text{ and } \\vec{r}_l \\text{ are NN,}\\\\ \n",
    "0 & \\text{otherwise}.\\end{cases}$$\n",
    "\n",
    "For en rute i griden er altså energien gitt som:\n",
    "\n",
    "$$V_{rute} = \\sum_{NN} w_{rute}w_{NN}\\alpha = w_{rute}\\alpha\\sum_{NN}w_{NN}$$\n",
    "Alt vi trenger er altså nettoladning til naboer $\\cdot$ ladning til ruta $\\cdot$ en konstant.\n",
    "For å få tall av fin størrelsesorden innfører vi den dimmensjonsløse energistørrelsen $V/\\alpha$."
   ]
  },
  {
   "cell_type": "code",
   "execution_count": 4,
   "metadata": {},
   "outputs": [],
   "source": [
    "##1d\n",
    "import time\n",
    "@jit(nopython=True)\n",
    "def total_energy_fast(grid):\n",
    "    \"\"\"\n",
    "        input: grid of size (N x N)\n",
    "        output: total energy of grid / alpha\n",
    "    \"\"\"\n",
    "    # create grid of charge signs\n",
    "    sign_grid = np.sign(grid)\n",
    "    E = sign_grid[0] * 0\n",
    "    # energy between each square and top, bottom, left and right neighbour\n",
    "    for row in sign_grid:\n",
    "        E += row*np.roll(row, -1)\n",
    "        E += row*np.roll(row, 1)\n",
    "    for row in sign_grid.T:\n",
    "        E += row*np.roll(row, -1)\n",
    "        E += row*np.roll(row, 1)\n",
    "        \n",
    "    return 1/2 * np.sum(E) #account for double count\n",
    "\n",
    "\n",
    "########## LAGRE GRID I 1b og BEREGN ENERGIEN HER!!!!!!!!!"
   ]
  },
  {
   "cell_type": "code",
   "execution_count": 5,
   "metadata": {},
   "outputs": [],
   "source": [
    "## Define a function that locates the 4 nearest neigbours with periodic boundary contition\n",
    "@jit(nopython=True)\n",
    "def nearest_neighbours_fast(i, j, N):\n",
    "    \"\"\"\n",
    "        input: int i, int j, int N. (i, j) is a coordinate in a grid, N is the size of the grid (N x N)\n",
    "        output: list of the four neighboring points of (i, j). Right side connected to left and top to bottom\n",
    "    \"\"\"\n",
    "    top = [i, (j-1+N)%N]\n",
    "    right = [(i+1)%N, j]\n",
    "    bottom = [i, (j +1)%N]\n",
    "    left = [(i-1 + N)%N, j]\n",
    "    return [top, right, bottom, left]"
   ]
  },
  {
   "cell_type": "code",
   "execution_count": 6,
   "metadata": {},
   "outputs": [],
   "source": [
    "N, M = [5, 10, 15], [6, 15, 30]\n",
    "grid_list = []\n",
    "for i in range(3):\n",
    "    n, m = N[i], M[i]\n",
    "    grid = generate_grid_of_monomers_fast(n, m)\n",
    "    grid_list.append(grid)\n",
    "    e = total_energy_fast(grid)\n",
    "    #visualize_grid(grid, file_title = f\"1a_figure_{i+1}\", figure_title = f\"Grid with N={n}, M={m} and E={e} α\", title_size = 30)"
   ]
  },
  {
   "cell_type": "markdown",
   "metadata": {},
   "source": [
    "Show the figure bla bla bla\n",
    "Energy can be verified by adding up -1 * # different colored bonds + # same colored bonds\n",
    "\n",
    "<table><tr>\n",
    "<td> <img src=\"images/1a_figure_1.png\" alt=\"Drawing\" style=\"width: 350px;\"/> </td>\n",
    "<td> <img src=\"images/1a_figure_2.png\" alt=\"Drawing\" style=\"width: 350px;\"/> </td>\n",
    "<td> <img src=\"images/1a_figure_3.png\" alt=\"Drawing\" style=\"width: 350px;\"/> </td>\n",
    "</tr></table>"
   ]
  },
  {
   "cell_type": "markdown",
   "metadata": {},
   "source": [
    "# Monomer simulation <a class=\"anchor\" id=\"monomer\"></a>"
   ]
  },
  {
   "cell_type": "code",
   "execution_count": 7,
   "metadata": {},
   "outputs": [],
   "source": [
    "##1e\n",
    "def load_file(Ns, N, M, T, sim_id=\"\"):\n",
    "    return np.load(f'data/Ns={Ns} N={N} M={M} T={T} {sim_id}.npz')\n",
    "\n",
    "@jit(nopython=True)\n",
    "def swap_fast(grid, coord1, coord2):\n",
    "    x1, y1 = coord1\n",
    "    x2, y2 = coord2\n",
    "    \n",
    "    temp_val = grid[x1][y1]\n",
    "    grid[x1][y1] = grid[x2][y2]\n",
    "    grid[x2][y2] = temp_val\n",
    "\n",
    "@jit(nopython=True)\n",
    "def move_monomer_fast(coords, direction, grid):\n",
    "    neighbours = nearest_neighbours_fast(i=coords[0], j=coords[1], N=grid.shape[0])\n",
    "    move = neighbours[direction]\n",
    "    move_val = grid[move[0]][move[1]]\n",
    "\n",
    "    return move, move_val==0\n",
    "\n",
    "@jit(nopython=True)\n",
    "def monte_carlo_sim_fast(Ns, N, M, T, grid):\n",
    "    e = np.zeros(Ns, dtype=\"float64\") #list of the energies\n",
    "    E = total_energy_fast(grid)\n",
    "    e[0] = E\n",
    "    for i in range(Ns):\n",
    "        monomer = np.random.randint(1, M+1)\n",
    "        sign = int(2*(np.random.randint(2) - 0.5))\n",
    "        monomer_coordinates = np.argwhere(grid==monomer*sign)[0]\n",
    "        direction = np.random.randint(0, 4) # 0: up, 1: right, 2: down, 3: left\n",
    "        move, legal_move = move_monomer_fast(monomer_coordinates, direction, grid)\n",
    "        if legal_move:\n",
    "            swap_fast(grid, move, monomer_coordinates)\n",
    "            Enew = total_energy_fast(grid)\n",
    "            if Enew < E:\n",
    "                E = Enew \n",
    "            elif np.random.random() < np.exp(-k_energy*(Enew-E)/T):\n",
    "                E = Enew\n",
    "            else:\n",
    "                swap_fast(grid, move, monomer_coordinates) # swapping back if the grid shouldnt be updated\n",
    "        \n",
    "        e[i] = E\n",
    "\n",
    "    return e\n",
    "        "
   ]
  },
  {
   "cell_type": "markdown",
   "metadata": {},
   "source": [
    "\n",
    "\n",
    "\n",
    "We can demonstrate the algorithm using our animation function\n",
    "\n",
    "<table><tr>\n",
    "<td> <img src=\"animations/monomer_anim_0.png\" alt=\"Drawing\" style=\"width: 250px;\"/> </td>\n",
    "<td> <img src=\"animations/monomer_anim.gif\" alt=\"Drawing\" style=\"width: 250px;\"/> </td>\n",
    "<td> <img src=\"animations/monomer_anim_1.png\" alt=\"Drawing\" style=\"width: 250px;\"/> </td>\n",
    "</tr></table>\n",
    "\n",
    "When it slows down it is checking unaccepted moves\n",
    "\n",
    "g\\\n",
    "g\\\n",
    "g\\\n",
    "g\\\n",
    "g\\\n",
    "g\\\n",
    "g\\\n",
    "g\\\n",
    "g\\\n",
    "g\\\n",
    "gg\n",
    "\n",
    "\n"
   ]
  },
  {
   "cell_type": "code",
   "execution_count": 8,
   "metadata": {},
   "outputs": [
    {
     "data": {
      "text/plain": [
       "<Figure size 1152x360 with 0 Axes>"
      ]
     },
     "metadata": {},
     "output_type": "display_data"
    },
    {
     "data": {
      "image/png": "[encoded data removed]",
      "text/plain": [
       "<Figure size 1152x360 with 1 Axes>"
      ]
     },
     "metadata": {
      "needs_background": "light"
     },
     "output_type": "display_data"
    }
   ],
   "source": [
    "##1f\n",
    "N = 15\n",
    "M = 25\n",
    "grid = generate_grid_of_monomers_fast(N, M)\n",
    "\n",
    "#E = monte_carlo_sim(100000, N, M, 200, grid, 1)\n",
    "\n",
    "data = load_file(50000, N, M, 500, 1)\n",
    "#visualize_grid(data['grid'], \"test\")\n",
    "\n",
    "def plot_function(x_vals, y_vals, file_title, errorbars = np.array([0]), title = \"\", xlabel = \"\", ylabel = \"\", fig_size = (9, 5)):\n",
    "    fig = plt.figure(figsize=fig_size)        \n",
    "    if errorbars.any():\n",
    "        plt.errorbar(x_vals, y_vals, yerr = errorbars)\n",
    "    else:\n",
    "        fig = plt.figure(figsize=fig_size)\n",
    "    plt.plot(x_vals, y_vals)\n",
    "    plt.title(title, size = int(60 * fig_size[0] / len(title)))\n",
    "    plt.xlabel(xlabel, size = 15)\n",
    "    plt.ylabel(ylabel, size = 15)    \n",
    "    fig.savefig(f'images/{file_title}.png') # save first frame  \n",
    "    \n",
    "    \n",
    "plot_function(np.arange(1, 50001, 1), data['energy'], \"50000energy\", title = \"Energy after 50000 iterations\", \n",
    "             xlabel = \"iterations\", ylabel = r\"E / $\\alpha$\", fig_size = (16, 5))"
   ]
  },
  {
   "cell_type": "markdown",
   "metadata": {},
   "source": [
    "# Cluster formation <a class=\"anchor\" id=\"cluster\"></a>"
   ]
  },
  {
   "cell_type": "code",
   "execution_count": 9,
   "metadata": {},
   "outputs": [],
   "source": [
    "##1g\n",
    "@jit(nopython=True)\n",
    "def add_to_cluster_fast(i, j, num, grid, cluster_grid):\n",
    "    #adds index i,j and all connected monomers to cluster identified by num on the cluster_grid\n",
    "    if cluster_grid[i][j] == 0 and grid[i][j] != 0:\n",
    "        cluster_grid[i][j] = num\n",
    "        neighbours = nearest_neighbours_fast(i, j, len(grid))\n",
    "      \n",
    "        for neighbor in neighbours: \n",
    "            add_to_cluster_fast(neighbor[0],neighbor[1], num, grid, cluster_grid)\n",
    "        \n",
    "       \n",
    "                \n",
    "@jit(nopython=True)\n",
    "def get_cluster_grid_fast(grid):\n",
    "    #input: grid is a grid of monomers of which you want to generate a corresponding cluster grid\n",
    "    #output: grid where all monomers belonging to the same cluster are represented by the a unique positive number\n",
    "   \n",
    "    cluster_grid = np.zeros((len(grid), len(grid)), dtype=np.dtype('i2'))\n",
    "    num = 1\n",
    "                                      \n",
    "    for i in range(len(grid)):\n",
    "        for j in range(len(grid)):\n",
    "            if cluster_grid[i][j]== 0 and grid[i][j] != 0:\n",
    "                add_to_cluster_fast(i, j, num, grid, cluster_grid)\n",
    "                num += 1\n",
    "    \n",
    "    return cluster_grid, num-1  \n",
    "                                      \n"
   ]
  },
  {
   "cell_type": "markdown",
   "metadata": {},
   "source": [
    "1h"
   ]
  },
  {
   "cell_type": "code",
   "execution_count": 10,
   "metadata": {},
   "outputs": [],
   "source": [
    "#1h\n",
    "\n",
    "def load_avg_d(temps, s=1/200, C=10000, t_max=100000, n=100, t_r=1000):\n",
    "    return np.load(f'data/davg/temps={temps} s={s} C={C} tmax={t_max} n={n} tr={t_r}.npz')\n",
    "    \n",
    "@jit(nopython=True)\n",
    "def average_d_sim_fast(N, M, temps, s=1/200, C=10000, t_max=100000, n=100, t_r=1000):\n",
    "    avg_dist = np.zeros(len(temps), dtype=\"float64\")\n",
    "    std_dev  = np.zeros(len(temps), dtype=\"float64\")\n",
    "    for j in range(len(temps)):\n",
    "        #print(f\"Working on temperature {j}/{len(temps)}\")\n",
    "        T = temps[j]\n",
    "        grid = generate_grid_of_monomers_fast(N, M)\n",
    "        t_equil = t_max * np.exp(-s*(T - temps[0])) + C\n",
    "        Ns = int(t_equil)\n",
    "        monte_carlo_sim_fast(Ns, N, M, T, grid)\n",
    "        d_avg = np.zeros(n, dtype=\"float64\")\n",
    "        for i in range(n):\n",
    "            monte_carlo_sim_fast(t_r, N, M, T, grid)\n",
    "            d_avg[i] = 2*M/get_cluster_grid_fast(grid)[1]\n",
    "            \n",
    "        avg_dist[j] = sum(d_avg) / n\n",
    "        std_dev[j]  = np.std(d_avg)\n",
    "    return avg_dist, std_dev\n",
    "\n",
    "N=15\n",
    "M=25\n",
    "\n",
    "temperatures = np.array([100, 120, 140, 160, 180, 200, 220, 240, 260, 280, 300, 320, 340, 360, 380, 400, 500, 600, 700, 800, 900, 1000])\n",
    "t0=time.perf_counter()\n",
    "#d, std = average_d_sim_fast(N, M, temperatures, n=100)\n",
    "#np.savez(f'data/davg/temps={temps} s={s} C={C} tmax={t_max} n={n} tr={t_r}.npz', d=d) MÅ FIKSES\n",
    "\n",
    "#print(f'execution time: {time.perf_counter()-t0}s')\n",
    "#plt.plot(temperatures, std)\n",
    "#plt.show()\n",
    "\n",
    "#plot_function(temperatures, d, \"d_and_temp\", errorbars=std, title = \"Average d as function of temperature\", \n",
    "#             xlabel = \"T [K]\", ylabel = \"d\", fig_size = (12, 5))"
   ]
  },
  {
   "cell_type": "code",
   "execution_count": null,
   "metadata": {},
   "outputs": [],
   "source": []
  },
  {
   "cell_type": "code",
   "execution_count": null,
   "metadata": {},
   "outputs": [],
   "source": []
  },
  {
   "cell_type": "code",
   "execution_count": null,
   "metadata": {},
   "outputs": [],
   "source": []
  },
  {
   "cell_type": "markdown",
   "metadata": {},
   "source": [
    "# Polymer simulation <a class=\"anchor\" id=\"polymer\"></a>"
   ]
  },
  {
   "cell_type": "markdown",
   "metadata": {},
   "source": [
    "2a fra nå av er a = 91 $\\mu m$"
   ]
  },
  {
   "cell_type": "code",
   "execution_count": 11,
   "metadata": {},
   "outputs": [],
   "source": [
    "a = 23.0e-6\n",
    "alpha = sc.e **2 / (4 * np.pi * epsilon0*epsilonr*a**2)\n",
    "k_energy = alpha/bolzmann\n",
    "\n",
    "#2a\n",
    "@jit(nopython=True)\n",
    "def build_polymer(grid, N, L, num):\n",
    "    # next we place L-1 monomers around it\n",
    "    num2 = L - 1\n",
    "    max_iter = N*N\n",
    "    while (num2 > 0):\n",
    "        i2 = np.random.randint(0, N) \n",
    "        j2 = np.random.randint(0, N)\n",
    "        neighbours   = nearest_neighbours_fast(i2, j2, N)\n",
    "        neighbourNum = [grid[neigh[0]][neigh[1]] for neigh in neighbours]\n",
    "        if grid[i2][j2] == 0 and num in neighbourNum:\n",
    "            grid[i2][j2] = num\n",
    "            num2 -= 1\n",
    "        else:\n",
    "            max_iter -= 1\n",
    "            if (max_iter == 0):\n",
    "                return False\n",
    "    return True\n",
    "\n",
    "@jit(nopython=True)\n",
    "def generate_grid_of_polymers(N, M, L):\n",
    "    \"\"\"\n",
    "        input: int N, M, L: N is grid-dimension. \n",
    "        M is #polymers. L is multivalency\n",
    "        output: N x N grid of polymers.\n",
    "    \"\"\"\n",
    "    grid = np.zeros((N, N), dtype=np.dtype('i2'))\n",
    "    \n",
    "    num = M\n",
    "    while (num > 0):\n",
    "        i = np.random.randint(0, N) # choose random coordinates to place first monomer\n",
    "        j = np.random.randint(0, N)\n",
    "        if grid[i][j] == 0:         # place monomer if there isn't one there already\n",
    "            grid[i][j] = -num\n",
    "            if build_polymer(grid, N, L, -num):\n",
    "                num -= 1 #decrement inside if, ensuring M polymers in total are placed\n",
    "            else:\n",
    "                for monomer in np.argwhere(grid==-num):\n",
    "                    i, j = monomer\n",
    "                    grid[i][j] = 0\n",
    "\n",
    "                    \n",
    "    num = M\n",
    "    while (num > 0):\n",
    "        i = np.random.randint(0, N)\n",
    "        j = np.random.randint(0, N)\n",
    "        if grid[i][j] == 0:\n",
    "            grid[i][j] = num\n",
    "            if build_polymer(grid, N, L, num):\n",
    "                num -= 1\n",
    "            else:\n",
    "                for monomer in np.argwhere(grid==num):\n",
    "                    i, j = monomer\n",
    "                    grid[i][j] = 0\n",
    "    \n",
    "    return grid\n",
    "\n",
    "\n",
    "#visualize_grid(grid, signonly = False) holder på å fikse farge greiene i visualize_grid\n",
    "\n",
    "def test_build_polymer(test_size):\n",
    "    nN = test_size\n",
    "    wrong=0\n",
    "    while(test_size > 0):\n",
    "        N = np.random.randint(30, 60)\n",
    "        M = np.random.randint(2, 10)\n",
    "        L = np.random.randint(10, 20)\n",
    "        grid0 = generate_grid_of_polymers(N, M, L)\n",
    "        \n",
    "        for num in range(1, M+1):\n",
    "            polymer = np.argwhere(grid0==num)\n",
    "            for monomer in polymer:\n",
    "                neighbours = nearest_neighbours_fast(monomer[0], monomer[1], N)\n",
    "                broken=True\n",
    "                for neighbor in neighbours:\n",
    "                    i, j = neighbor\n",
    "                    if grid0[i][j] == num:\n",
    "                        broken=False\n",
    "                        break\n",
    "            if broken:\n",
    "                wrong += 1\n",
    "                    \n",
    "            polymer = np.argwhere(grid0==-num)\n",
    "            for monomer in polymer:\n",
    "                neighbours = nearest_neighbours_fast(monomer[0], monomer[1], N)\n",
    "                broken=True\n",
    "                for neighbor in neighbours:\n",
    "                    i, j = neighbor\n",
    "                    if grid0[i][j] == -num:\n",
    "                        broken=False\n",
    "                        break\n",
    "            if broken:\n",
    "                wrong += 1\n",
    "                    \n",
    "        test_size -= 1\n",
    "        \n",
    "    print(f'number of correct: {nN-broken} of {nN}')\n",
    "\n",
    "        \n",
    "\n",
    "# test_build_polymer(20)  \n"
   ]
  },
  {
   "cell_type": "markdown",
   "metadata": {},
   "source": [
    "2b"
   ]
  },
  {
   "cell_type": "code",
   "execution_count": 12,
   "metadata": {},
   "outputs": [
    {
     "name": "stdout",
     "output_type": "stream",
     "text": [
      "[[ 0  2  0  0  0 -1]\n",
      " [ 1 -2  0  1  1  1]\n",
      " [-2 -2 -2 -2  0  1]\n",
      " [ 0  0  0  0  0  0]\n",
      " [ 0  2  2  0  0 -1]\n",
      " [ 0  2  2 -1 -1 -1]]\n",
      "-7.0\n"
     ]
    }
   ],
   "source": [
    "#2b\n",
    "\n",
    "def polymer_total_energy(grid):\n",
    "    N = grid.shape[0]\n",
    "    \n",
    "    E = 0\n",
    "    for i in range(N):\n",
    "        for j in range(N):\n",
    "            neighbours = nearest_neighbours_fast(i, j, N)\n",
    "            current_cluster_val = grid[i][j]\n",
    "            for neighbor in neighbours:\n",
    "                xcoord, ycoord = neighbor\n",
    "                if grid[xcoord][ycoord] != current_cluster_val:\n",
    "                    E += np.sign(current_cluster_val*grid[xcoord][ycoord])\n",
    "    return E/2\n",
    "\n",
    "@jit(nopython=True)\n",
    "def polymer_total_energy_fast(grid):\n",
    "    N = grid.shape[0]\n",
    "    \n",
    "    E = 0\n",
    "    for i in range(N):\n",
    "        for j in range(N):\n",
    "            neighbours = nearest_neighbours_fast(i, j, N)\n",
    "            current_cluster_val = grid[i][j]\n",
    "            for neighbor in neighbours:\n",
    "                xcoord, ycoord = neighbor\n",
    "                if grid[xcoord][ycoord] != current_cluster_val:\n",
    "                    E += np.sign(current_cluster_val*grid[xcoord][ycoord])\n",
    "    return E/2\n",
    "\n",
    "grid = generate_grid_of_polymers(6, 2, 5)\n",
    "print(grid)\n",
    "print(polymer_total_energy(grid))"
   ]
  },
  {
   "cell_type": "markdown",
   "metadata": {},
   "source": [
    "2c"
   ]
  },
  {
   "cell_type": "code",
   "execution_count": 13,
   "metadata": {},
   "outputs": [],
   "source": [
    "#2c\n",
    "\n",
    "# def get_polymer_coordinates(num, grid):\n",
    "#     #input: num is a unique int identifying the polymer, and the grid of polymers\n",
    "#     #output: i and j indexes of all monomers belonging to the polymer\n",
    "    \n",
    "#     coordinates = []\n",
    "#     for i in range(len(grid)):\n",
    "#         for j in range(len(grid)):\n",
    "#             if grid[i][j]==num :\n",
    "#                 coordinates.append((i,j))\n",
    "                \n",
    "#     return coordinates\n",
    "#Gjør det samme som np.argwhere\n",
    "\n",
    "@jit(nopython=True)\n",
    "def rigid_move_polymer_fast(direction, num, grid):\n",
    "    #input: direction represented by an int, num is a unique int identifying the polymer, and the grid of polymers\n",
    "    size = grid.shape[0]\n",
    "    polymer = np.argwhere(grid==num)\n",
    "    for monomer in polymer: \n",
    "        neighbor = nearest_neighbours_fast(monomer[0], monomer[1], size)[direction]\n",
    "        i = neighbor[0]\n",
    "        j = neighbor[1]\n",
    "        \n",
    "        if (grid[i][j] != 0 and grid[i][j] != num):\n",
    "            return False\n",
    "    \n",
    "    for monomer in polymer:\n",
    "        neighbor = nearest_neighbours_fast(monomer[0], monomer[1], size)[direction]\n",
    "        i = neighbor[0]\n",
    "        j = neighbor[1]\n",
    "        \n",
    "        grid[i][j] += num\n",
    "        grid[monomer[0]][monomer[1]] -= num\n",
    "                     \n",
    "    return True\n",
    "\n",
    "#print (nearest_neighbours_fast(1,1,20))\n",
    "#grid[1][0] = 7\n",
    "#grid[2,1]=8\n",
    "#grid[1][2] = 9\n",
    "\n",
    "\n",
    "def naive_rigid_move(direction, num, grid):\n",
    "    N = grid.shape[0]\n",
    "    polymer = np.argwhere(grid==num)\n",
    "    \n",
    "    for monomer in polymer:\n",
    "        i, j = monomer\n",
    "        grid[i][j] -= num\n",
    "        x, y = nearest_neighbours_fast(i, j, N)[direction]\n",
    "        grid[x][y] += num\n",
    "        \n",
    "\n",
    "def test_rigid_move(test_size):\n",
    "    num = test_size\n",
    "    correct = 0\n",
    "    while(test_size > 0):\n",
    "        N = np.random.randint(30, 60)\n",
    "        M = np.random.randint(2, 10)\n",
    "        L = np.random.randint(10, 20)\n",
    "        grid0 = generate_grid_of_polymers(N, M, L)\n",
    "        grid1 = grid0.copy()\n",
    "\n",
    "        monomer = np.random.randint(1, M+1)\n",
    "        sign = int(2*(np.random.randint(2) - 0.5))\n",
    "        direction = np.random.randint(0, 4)\n",
    "        if rigid_move_polymer( direction,sign*monomer, grid0):\n",
    "            naive_rigid_move(direction,sign*monomer, grid1)\n",
    "            \n",
    "            correct += np.sum(grid0-grid1)==0\n",
    "            test_size -= 1\n",
    "            \n",
    "        \n",
    "    print(f'Number of correct: {correct} of {num}')\n",
    "        \n",
    "# t0 = time.perf_counter()\n",
    "# test_rigid_move(50)\n",
    "# print(time.perf_counter()-t0)"
   ]
  },
  {
   "cell_type": "markdown",
   "metadata": {},
   "source": [
    "2d"
   ]
  },
  {
   "cell_type": "code",
   "execution_count": 14,
   "metadata": {},
   "outputs": [
    {
     "name": "stdout",
     "output_type": "stream",
     "text": [
      "starter nå\n",
      "Ferdig\n"
     ]
    },
    {
     "data": {
      "image/png": "[encoded data removed]",
      "text/plain": [
       "<Figure size 432x288 with 1 Axes>"
      ]
     },
     "metadata": {
      "needs_background": "light"
     },
     "output_type": "display_data"
    }
   ],
   "source": [
    "#2d\n",
    "\n",
    "@jit(nopython=True)\n",
    "def monte_carlo_sim_polymer(Ns, N, M, T, grid, move_function, fill_grid_list = False):\n",
    "    e = np.zeros(Ns, dtype=\"float64\") #list of the energies\n",
    "    E = polymer_total_energy_fast(grid)\n",
    "    e[0] = E\n",
    "    grids = [grid]\n",
    "    for i in range(Ns):\n",
    "        polymer = int(2*(np.random.randint(2) - 0.5)) * np.random.randint(1, M+1) # sign * num\n",
    "        direction = np.random.randint(0, 4) # 0: up, 1: right, 2: down, 3: left\n",
    "        grid0 = grid.copy()\n",
    "        legal_move = move_function(direction, polymer, grid)\n",
    "        if legal_move:\n",
    "            Enew = polymer_total_energy_fast(grid)\n",
    "            if Enew < E:\n",
    "                E = Enew \n",
    "            elif np.random.random() < np.exp(-k_energy*(Enew-E)/T):\n",
    "                E = Enew\n",
    "            else:\n",
    "                grid = grid0\n",
    "        e[i] = E\n",
    "        if fill_grid_list:\n",
    "            grids.append(grid)\n",
    "\n",
    "    return e, grids\n",
    "\n",
    "grid = generate_grid_of_polymers(10, 3, 4)\n",
    "e, grids = monte_carlo_sim_polymer(1000, 10, 3, 300, grid, rigid_move_polymer_fast, fill_grid_list=True)\n",
    "plt.plot(e)\n",
    "\n",
    "print('starter nå')\n",
    "#animate_grid(grids, 'polymer_anim', ms_between_frames = 1, signonly = False)\n",
    "print(\"Ferdig\")"
   ]
  },
  {
   "cell_type": "markdown",
   "metadata": {},
   "source": [
    "<table><tr>\n",
    "<td> <img src=\"animations/polymer_anim_0.png\" alt=\"Drawing\" style=\"width: 250px;\"/> </td>\n",
    "<td> <img src=\"animations/polymer_anim.gif\" alt=\"Drawing\" style=\"width: 250px;\"/> </td>\n",
    "<td> <img src=\"animations/polymer_anim_1.png\" alt=\"Drawing\" style=\"width: 250px;\"/> </td>\n",
    "</tr></table>"
   ]
  },
  {
   "cell_type": "markdown",
   "metadata": {},
   "source": [
    "2e"
   ]
  },
  {
   "cell_type": "code",
   "execution_count": 17,
   "metadata": {},
   "outputs": [
    {
     "name": "stdout",
     "output_type": "stream",
     "text": [
      "-23.0 -113.0\n"
     ]
    },
    {
     "data": {
      "image/png": "[encoded data removed]",
      "text/plain": [
       "<Figure size 720x720 with 1 Axes>"
      ]
     },
     "metadata": {
      "needs_background": "light"
     },
     "output_type": "display_data"
    }
   ],
   "source": [
    "#2f\n",
    "#@jit(nopython=True)\n",
    "def depth_first_search(monomer, num, grid, visited):\n",
    "    i, j = monomer\n",
    "    if grid[i][j] == num:\n",
    "        monomer_position = float(str(i)+str(j))\n",
    "        if monomer_position not in visited:\n",
    "            visited.append(monomer_position)\n",
    "            for neighbor in nearest_neighbours_fast(i, j, grid.shape[0]):\n",
    "                depth_first_search(neighbor, num, grid, visited)            \n",
    "\n",
    "#@jit(nopython=True)\n",
    "def polymer_is_broken(monomer, num, grid, L):\n",
    "    visited = [float(str(N)+str(N))]\n",
    "    depth_first_search(monomer, num, grid,  visited)\n",
    "    return len(visited) - 1 != L # we need to visit L-1 \n",
    "\n",
    "#2e\n",
    "#@jit(nopython=True)\n",
    "def medium_flex_move(direction, num, grid):\n",
    "    N = grid.shape[0]\n",
    "    polymer = np.argwhere(grid==num) # list of coordinates\n",
    "    L = polymer.shape[0] # first index is number of pos, second is dimentions\n",
    "    neighbours = np.zeros(polymer.shape, dtype='i2')\n",
    "    illegals = np.zeros(N, dtype = 'i2')\n",
    "    row_to_move = direction%2 # move horisontally or vertically\n",
    "    \n",
    "    for i in range(L):\n",
    "        monomer = polymer[i]\n",
    "        neighbours[i] = nearest_neighbours_fast(monomer[0], monomer[1], N)[direction]\n",
    "        x, y = neighbours[i]\n",
    "        if grid[x][y] != 0 and grid[x][y] != num:\n",
    "            illegals[neighbours[i][row_to_move]] = 1\n",
    "    \n",
    "    for monomer, neighbor in zip(polymer, neighbours):\n",
    "        index = monomer[row_to_move]\n",
    "        if illegals[index] == 0:\n",
    "            i, j = monomer\n",
    "            x, y = neighbor\n",
    "            grid[i][j] -= num\n",
    "            grid[x][y] += num\n",
    "    \n",
    "    new_polymer = np.argwhere(grid==num)\n",
    "    if polymer_is_broken(new_polymer[0], num, grid, L):\n",
    "        for monomer in new_polymer:\n",
    "            grid[monomer[0]][monomer[1]] = 0\n",
    "        for monomer in polymer:\n",
    "            grid[monomer[0]][monomer[1]] = num\n",
    "            \n",
    "def monte_carlo_sim_polymer(Ns, N, M, T, grid, move_function, fill_grid_list = False):\n",
    "    e = np.zeros(Ns, dtype=\"float64\") #list of the energies\n",
    "    E = polymer_total_energy_fast(grid)\n",
    "    e[0] = E\n",
    "    grids = [grid]\n",
    "    for i in range(Ns):\n",
    "        polymer = int(2*(np.random.randint(2) - 0.5)) * np.random.randint(1, M+1) # sign * num\n",
    "        direction = np.random.randint(0, 4) # 0: up, 1: right, 2: down, 3: left\n",
    "        grid0 = grid.copy()\n",
    "        legal_move = move_function(direction, polymer, grid)\n",
    "        if True:#legal_move:\n",
    "            Enew = polymer_total_energy_fast(grid)\n",
    "            if Enew < E:\n",
    "                E = Enew \n",
    "            elif np.random.random() < np.exp(-k_energy*(Enew-E)/T):\n",
    "                E = Enew\n",
    "            else:\n",
    "                grid = grid0\n",
    "        e[i] = E\n",
    "        if fill_grid_list:\n",
    "            grids.append(grid)\n",
    "\n",
    "    return e, grids\n",
    "\n",
    "N = 25\n",
    "M = 10\n",
    "L = 18\n",
    "grid = generate_grid_of_polymers(N, M, L)\n",
    "visualize_grid(grid, signonly = False)\n",
    "Ns = 1000\n",
    "T = 500\n",
    "e, grids = monte_carlo_sim_polymer(Ns, N, M, T, grid, medium_flex_move, fill_grid_list=True)\n",
    "print(e[0], e[-1])\n",
    "#animate_grid(grids, 'title', ms_between_frames = 1, signonly = False)"
   ]
  },
  {
   "cell_type": "markdown",
   "metadata": {},
   "source": [
    "<table><tr>\n",
    "<td> <img src=\"animations/polymer_flex_anim_fast_0.png\" alt=\"Drawing\" style=\"width: 250px;\"/> </td>\n",
    "<td> <img src=\"animations/polymer_flex_anim_fast.gif\" alt=\"Drawing\" style=\"width: 250px;\"/> </td>\n",
    "<td> <img src=\"animations/polymer_flex_anim_fast_1.png\" alt=\"Drawing\" style=\"width: 250px;\"/> </td>\n",
    "</tr></table>"
   ]
  },
  {
   "cell_type": "code",
   "execution_count": null,
   "metadata": {},
   "outputs": [],
   "source": [
    "#2f"
   ]
  },
  {
   "cell_type": "markdown",
   "metadata": {},
   "source": [
    "2g"
   ]
  },
  {
   "cell_type": "code",
   "execution_count": null,
   "metadata": {},
   "outputs": [],
   "source": [
    "#2g"
   ]
  },
  {
   "cell_type": "markdown",
   "metadata": {},
   "source": [
    "# Aggregate formation <a class=\"anchor\" id=\"aggregate\"></a>"
   ]
  },
  {
   "cell_type": "code",
   "execution_count": null,
   "metadata": {},
   "outputs": [],
   "source": [
    "#2h"
   ]
  },
  {
   "cell_type": "markdown",
   "metadata": {},
   "source": [
    "# Conclusion <a class=\"anchor\" id=\"conclusion\"></a>"
   ]
  },
  {
   "cell_type": "markdown",
   "metadata": {},
   "source": [
    "We have seen\n",
    "we have shown blablabla"
   ]
  }
 ],
 "metadata": {
  "kernelspec": {
   "display_name": "Python 3 (ipykernel)",
   "language": "python",
   "name": "python3"
  },
  "language_info": {
   "codemirror_mode": {
    "name": "ipython",
    "version": 3
   },
   "file_extension": ".py",
   "mimetype": "text/x-python",
   "name": "python",
   "nbconvert_exporter": "python",
   "pygments_lexer": "ipython3",
   "version": "3.9.7"
  }
 },
 "nbformat": 4,
 "nbformat_minor": 4
}
