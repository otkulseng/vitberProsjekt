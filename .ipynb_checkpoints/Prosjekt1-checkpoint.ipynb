{
 "cells": [
  {
   "cell_type": "markdown",
   "metadata": {},
   "source": [
    "# Plan og arbeidsflyt i GiHub\n",
    "\n"
   ]
  },
  {
   "cell_type": "markdown",
   "metadata": {},
   "source": [
    "1. åpne terminalen i mappen lokalt på deres maskin.\n",
    "2. kjør kommandoene:\n",
    "\n",
    "git fetch origin $$$$\n",
    "git pull origin master$$$$\n",
    "\n",
    "3. Da vil master-branchen oppdateres lokalt hos dere. Nå skal dere lage en branch hvor den nye koden skal skrives. Velg et navn til branchen (gjerne noe deksriptivt), og kjør kommandoen.\n",
    "\n",
    "$$$$\n",
    "git checkout -b NAVN $$$$\n",
    "\n",
    "3. hvor NAVN er navnet dere valgte (NAVN må være uten mellomrom). Dere må også passe på å ikke lage branch-navn som krasjer (altså, hvis både trond og ola lager branchen 'feature', så vil alt bli ødelagt :) )\n",
    "\n",
    "\n",
    "\n",
    "4. Nå kan dere gjøre endringer fritt. Pass dog på at dere skriver i den SAMME cellen i jupyter. Dette er viktig. Vi tildeler celler sammen, så ikke start å jobbe før vi har blitt enig om celler. \n",
    "\n",
    "5. Når dere er ferdig å jobbe, kjør kommandoene:\n",
    "\n",
    "$$$$\n",
    "git add .$$$$\n",
    "git commit -m \"MELDING\"$$$$\n",
    "\n",
    "5. og bytt ut MELDING med en myyye mer deskriptiv mld. Dette er også viktig, da denne meldingen kan brukes til å finne tilbake til gammel kode\n",
    "\n",
    "6. dytt koden til github ved å kjøre kommandoen: \n",
    "\n",
    "$$$$\n",
    "git push origin NAVN $$$$\n",
    "\n",
    "6. hvor NAVN igjen er navnet på branchen\n",
    "\n",
    "7. send mld til oss andre hvis dere har pushet en branch til github. Da må vi nemlig gå inn på github og gjennomføre en \"Pull-request\"."
   ]
  },
  {
   "cell_type": "markdown",
   "metadata": {},
   "source": [
    "# Prosjekt 1 - bio"
   ]
  },
  {
   "cell_type": "markdown",
   "metadata": {},
   "source": [
    "## Innhold\n",
    "* [Introduksjon](#intro)\n",
    "* [...](#2.)\n",
    "* [Oppgave 2](#o2)\n",
    "* [...](#4.)\n",
    "* [Konklusjon](#konk)"
   ]
  },
  {
   "cell_type": "markdown",
   "metadata": {},
   "source": [
    "## Introduksjon <a class=\"anchor\" id=\"intro\"></a>"
   ]
  },
  {
   "cell_type": "markdown",
   "metadata": {},
   "source": [
    "Introduksjon kommer her"
   ]
  },
  {
   "cell_type": "code",
   "execution_count": 1,
   "metadata": {},
   "outputs": [
    {
     "name": "stdout",
     "output_type": "stream",
     "text": [
      "0.445591093521832\n"
     ]
    }
   ],
   "source": [
    "## Libraries\n",
    "from numba import jit\n",
    "from numba.core.errors import NumbaDeprecationWarning, NumbaPendingDeprecationWarning\n",
    "import warnings\n",
    "\n",
    "# Remove annoying deprecation warnings\n",
    "warnings.simplefilter('ignore', category=NumbaDeprecationWarning)\n",
    "warnings.simplefilter('ignore', category=NumbaPendingDeprecationWarning)\n",
    "\n",
    "#Hvordan bruke jit for å speede opp koden: basically legg til \n",
    "#@jit(nopython=True)\n",
    "#def some_func():\n",
    "#    return\n",
    "#over hver eneste funksjon. Men vent med å gjøre det til vi har testet ferdig koden (har noe med feilmeldingene å gjøre)\n",
    "\n",
    "\n",
    "import numpy as np\n",
    "\n",
    "print(np.random.random())"
   ]
  },
  {
   "cell_type": "code",
   "execution_count": null,
   "metadata": {},
   "outputs": [],
   "source": []
  },
  {
   "cell_type": "markdown",
   "metadata": {},
   "source": [
    "1a"
   ]
  },
  {
   "cell_type": "code",
   "execution_count": 33,
   "metadata": {},
   "outputs": [],
   "source": [
    "##1a\n",
    "\n",
    "def generate_grid_of_monomers(N, M):\n",
    "    grid = np.zeros((N, N), dtype=np.dtype('i2'))\n",
    "    \n",
    "    num = M\n",
    "    while (num > 0):\n",
    "        i = np.random.randint(0, N)    #choose random coordinates to place monomer\n",
    "        j = np.random.randint(0, N)\n",
    "        if grid[i][j] == 0:            #place monomer if there isn't one there already\n",
    "            grid[i][j] = -num\n",
    "            num -= 1                   #decrement inside if, ensuring M monomers int total are placed\n",
    "            \n",
    "    num = M\n",
    "    while (num > 0):\n",
    "        i = np.random.randint(0, N)\n",
    "        j = np.random.randint(0, N)\n",
    "        if grid[i][j] == 0:\n",
    "            grid[i][j] = num\n",
    "            num -= 1\n",
    "    \n",
    "    return grid\n"
   ]
  },
  {
   "cell_type": "markdown",
   "metadata": {},
   "source": [
    "1b"
   ]
  },
  {
   "cell_type": "code",
   "execution_count": 46,
   "metadata": {},
   "outputs": [
    {
     "data": {
      "image/png": "[encoded data removed]",
      "text/plain": [
       "<Figure size 432x288 with 1 Axes>"
      ]
     },
     "metadata": {
      "needs_background": "light"
     },
     "output_type": "display_data"
    }
   ],
   "source": [
    "##1b\n",
    "\n",
    "import matplotlib.pyplot as plt\n",
    "import matplotlib.colors as c\n",
    "\n",
    "def visualize_grid(grid):\n",
    "    # Make grid have only -1, 0 and 1. [::-1,] flips the rows\n",
    "    sign_grid = np.sign(grid[::-1,])\n",
    "    cMap = c.ListedColormap([(1,1,0),(0,0,1),(1,0,1)])\n",
    "    plt.pcolormesh(sign_grid, cmap = cMap)\n",
    "\n",
    "visualize_grid(np.array([[0, 1], [-3, 0]]))"
   ]
  },
  {
   "cell_type": "markdown",
   "metadata": {},
   "source": [
    "1c"
   ]
  },
  {
   "cell_type": "code",
   "execution_count": 4,
   "metadata": {},
   "outputs": [],
   "source": [
    "##1c"
   ]
  },
  {
   "cell_type": "markdown",
   "metadata": {},
   "source": [
    "1d"
   ]
  },
  {
   "cell_type": "code",
   "execution_count": 5,
   "metadata": {},
   "outputs": [],
   "source": [
    "##1d"
   ]
  },
  {
   "cell_type": "markdown",
   "metadata": {},
   "source": [
    "1e"
   ]
  },
  {
   "cell_type": "code",
   "execution_count": 6,
   "metadata": {},
   "outputs": [],
   "source": [
    "##1e"
   ]
  },
  {
   "cell_type": "markdown",
   "metadata": {},
   "source": [
    "1f"
   ]
  },
  {
   "cell_type": "code",
   "execution_count": 7,
   "metadata": {},
   "outputs": [],
   "source": [
    "##1f"
   ]
  },
  {
   "cell_type": "markdown",
   "metadata": {},
   "source": [
    "1g"
   ]
  },
  {
   "cell_type": "code",
   "execution_count": 8,
   "metadata": {},
   "outputs": [],
   "source": [
    "##1g"
   ]
  },
  {
   "cell_type": "markdown",
   "metadata": {},
   "source": [
    "1h"
   ]
  },
  {
   "cell_type": "code",
   "execution_count": 9,
   "metadata": {},
   "outputs": [],
   "source": [
    "#1h"
   ]
  },
  {
   "cell_type": "markdown",
   "metadata": {},
   "source": [
    "# Oppgave 2  <a class=\"anchor\" id=\"o2\"></a>"
   ]
  },
  {
   "cell_type": "markdown",
   "metadata": {},
   "source": [
    "2a"
   ]
  },
  {
   "cell_type": "code",
   "execution_count": 10,
   "metadata": {},
   "outputs": [],
   "source": [
    "#2a"
   ]
  },
  {
   "cell_type": "markdown",
   "metadata": {},
   "source": [
    "2b"
   ]
  },
  {
   "cell_type": "code",
   "execution_count": 11,
   "metadata": {},
   "outputs": [],
   "source": [
    "#2b"
   ]
  },
  {
   "cell_type": "markdown",
   "metadata": {},
   "source": [
    "2c"
   ]
  },
  {
   "cell_type": "code",
   "execution_count": 12,
   "metadata": {},
   "outputs": [],
   "source": [
    "#2c"
   ]
  },
  {
   "cell_type": "markdown",
   "metadata": {},
   "source": [
    "2d"
   ]
  },
  {
   "cell_type": "code",
   "execution_count": 13,
   "metadata": {},
   "outputs": [],
   "source": [
    "#2d"
   ]
  },
  {
   "cell_type": "markdown",
   "metadata": {},
   "source": [
    "2e"
   ]
  },
  {
   "cell_type": "code",
   "execution_count": 14,
   "metadata": {},
   "outputs": [],
   "source": [
    "#2e"
   ]
  },
  {
   "cell_type": "markdown",
   "metadata": {},
   "source": [
    "2f"
   ]
  },
  {
   "cell_type": "code",
   "execution_count": 15,
   "metadata": {},
   "outputs": [],
   "source": [
    "#2f"
   ]
  },
  {
   "cell_type": "markdown",
   "metadata": {},
   "source": [
    "2g"
   ]
  },
  {
   "cell_type": "code",
   "execution_count": 16,
   "metadata": {},
   "outputs": [],
   "source": [
    "#2g"
   ]
  },
  {
   "cell_type": "markdown",
   "metadata": {},
   "source": [
    "2h"
   ]
  },
  {
   "cell_type": "code",
   "execution_count": 17,
   "metadata": {},
   "outputs": [],
   "source": [
    "#2h"
   ]
  },
  {
   "cell_type": "markdown",
   "metadata": {},
   "source": [
    "# Konklusjon <a class=\"anchor\" id=\"konk\"></a>"
   ]
  }
 ],
 "metadata": {
  "kernelspec": {
   "display_name": "Python 3",
   "language": "python",
   "name": "python3"
  },
  "language_info": {
   "codemirror_mode": {
    "name": "ipython",
    "version": 3
   },
   "file_extension": ".py",
   "mimetype": "text/x-python",
   "name": "python",
   "nbconvert_exporter": "python",
   "pygments_lexer": "ipython3",
   "version": "3.8.5"
  }
 },
 "nbformat": 4,
 "nbformat_minor": 4
}
