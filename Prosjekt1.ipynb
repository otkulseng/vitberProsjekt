{
 "cells": [
  {
   "cell_type": "markdown",
   "metadata": {},
   "source": [
    "# Plan og arbeidsflyt i GiHub\n",
    "\n"
   ]
  },
  {
   "cell_type": "markdown",
   "metadata": {},
   "source": [
    "1. åpne terminalen i mappen lokalt på deres maskin.\n",
    "2. kjør kommandoene:\n",
    "\n",
    "git fetch origin $$$$\n",
    "git pull origin master$$$$\n",
    "\n",
    "3. Da vil master-branchen oppdateres lokalt hos dere. Nå skal dere lage en branch hvor den nye koden skal skrives. Velg et navn til branchen (gjerne noe deksriptivt), og kjør kommandoen.\n",
    "\n",
    "$$$$\n",
    "git checkout -b NAVN $$$$\n",
    "\n",
    "3. hvor NAVN er navnet dere valgte (NAVN må være uten mellomrom). Dere må også passe på å ikke lage branch-navn som krasjer (altså, hvis både trond og ola lager branchen 'feature', så vil alt bli ødelagt :) )\n",
    "\n",
    "\n",
    "\n",
    "4. Nå kan dere gjøre endringer fritt. Pass dog på at dere skriver i den SAMME cellen i jupyter. Dette er viktig. Vi tildeler celler sammen, så ikke start å jobbe før vi har blitt enig om celler. \n",
    "\n",
    "5. Når dere er ferdig å jobbe, kjør kommandoene:\n",
    "\n",
    "$$$$\n",
    "git add .$$$$\n",
    "git commit -m \"MELDING\"$$$$\n",
    "\n",
    "5. og bytt ut MELDING med en myyye mer deskriptiv mld. Dette er også viktig, da denne meldingen kan brukes til å finne tilbake til gammel kode\n",
    "\n",
    "6. dytt koden til github ved å kjøre kommandoen: \n",
    "\n",
    "$$$$\n",
    "git push origin NAVN $$$$\n",
    "\n",
    "6. hvor NAVN igjen er navnet på branchen\n",
    "\n",
    "7. send mld til oss andre hvis dere har pushet en branch til github. Da må vi nemlig gå inn på github og gjennomføre en \"Pull-request\"."
   ]
  },
  {
   "cell_type": "markdown",
   "metadata": {},
   "source": [
    "# Prosjekt 1 - bio"
   ]
  },
  {
   "cell_type": "markdown",
   "metadata": {},
   "source": [
    "## Contents\n",
    "* [Introduction](#intro)\n",
    "* [Model and assumptions](#model)\n",
    "* [Monomer simulation](#monomer)\n",
    "* [Cluster formation](#cluster)\n",
    "* [Polymer simulation](#polymer)\n",
    "* [Aggregate formation](#aggregate)\n",
    "* [Conclusion](#conclusion)"
   ]
  },
  {
   "cell_type": "markdown",
   "metadata": {},
   "source": [
    "## Introduction <a class=\"anchor\" id=\"intro\"></a>"
   ]
  },
  {
   "cell_type": "markdown",
   "metadata": {},
   "source": [
    "Organelles are tiny structures with one or more specific functions inside of a cell. \n",
    "Some organelles have a lipid membrane which separates the interior from the rest of the cell, while others have no membrane. \n",
    "Nucleoli are an example of membrane-less organelles. \n",
    "They are composed of RNA and proteins, which are both examples of biopolymers. \n",
    "That is, molecules containing repeating units. \n",
    "These repeating units are known as monomers and are bound together by covalent bonds. \n",
    "\\\n",
    "\\\n",
    "The goal of this project is to study the formation of membrane-less organelles such as nucleoli through electrostatic interactions between monomers and polymers. \n",
    "We will study both monomer and polymer systems numerically by running a computer simulation. **(burde vi si mer om hvordan?)** We want to find out how the energy develops over time and how long it takes for the system to reach its equilibrium, in addition to how parameters such as temperature and polymer size affects the system. \n",
    "\\\n",
    "\\\n",
    "\\\n",
    "**BEGRUNNE BILDER PÅ NETT, FORKLARE HVORDAN LAGD / LAGRA**"
   ]
  },
  {
   "cell_type": "markdown",
   "metadata": {},
   "source": [
    "## Model and assumptions <a class=\"anchor\" id=\"model\"></a>"
   ]
  },
  {
   "cell_type": "markdown",
   "metadata": {},
   "source": [
    "When simulating the monomer system, we make **# number of assumptions** the assumption that there are no interactions between any two monomers that are not directly adjacent to each other vertically or horizontally. This is because long range interactions between the monomers are reduced by the solvent screening the electric field. In addition, the Coulomb forces are proportional to $1/r^2$. Therefore, the long range interactions between the monomers can be neglected. This means that when calculating the energy of the system we only need to take in to account neighboring monomers. The energy stored in a bond between two monomers can be calculated by the formula (formell). To find the total energy of the system we need to sum the energy between all neighboring monomers.\n",
    "\\\n",
    "\\\n",
    "\n",
    "\n"
   ]
  },
  {
   "cell_type": "code",
   "execution_count": null,
   "metadata": {},
   "outputs": [],
   "source": []
  },
  {
   "cell_type": "code",
   "execution_count": null,
   "metadata": {},
   "outputs": [],
   "source": []
  },
  {
   "cell_type": "code",
   "execution_count": 1,
   "metadata": {},
   "outputs": [],
   "source": [
    "## Libraries to make fast code\n",
    "from numba import jit\n",
    "from numba.core.errors import NumbaDeprecationWarning, NumbaPendingDeprecationWarning\n",
    "import warnings\n",
    "\n",
    "# Remove annoying deprecation warnings\n",
    "warnings.simplefilter('ignore', category=NumbaDeprecationWarning)\n",
    "warnings.simplefilter('ignore', category=NumbaPendingDeprecationWarning)\n",
    "\n",
    "## Libraries for maths, plotting and animation\n",
    "import numpy as np\n",
    "\n",
    "import matplotlib.pyplot as plt\n",
    "import matplotlib.colors as c\n",
    "import matplotlib.animation\n",
    "import scipy.constants as sc\n",
    "from IPython.display import HTML, clear_output\n",
    "\n",
    "## Library for status bar\n",
    "from tqdm.notebook import tqdm\n",
    "\n",
    "## Importing and defining the necessary constants\n",
    "bolzmann = sc.Boltzmann \n",
    "epsilon0 = sc.epsilon_0\n",
    "elemcharge = sc.e\n",
    "epsilonr = 78\n",
    "a = 23.0e-6\n",
    "\n",
    "# This will be our unit of energy\n",
    "alpha = sc.e **2 / (4 * np.pi * epsilon0*epsilonr*a**2)\n",
    "\n",
    "# The constant in the boltzman factor-exponent\n",
    "k_energy = alpha/bolzmann"
   ]
  },
  {
   "cell_type": "code",
   "execution_count": 2,
   "metadata": {},
   "outputs": [],
   "source": [
    "## Function that generates N*N grid with 2M monomers\n",
    "@jit(nopython=True)\n",
    "def generate_grid_of_monomers(N, M):\n",
    "    \"\"\"\n",
    "        input: int N, int M: N is the grid-dimension. M is the number of positive and negative monomers\n",
    "        output: N x N grid of i2-integers. 2M of which is either positive ore negative, the rest 0\n",
    "    \"\"\"\n",
    "    grid = np.zeros((N, N), dtype=np.dtype('i2'))\n",
    "    \n",
    "    num = M\n",
    "    while (num > 0):\n",
    "        i = np.random.randint(0, N)    #choose random coordinates to place monomer\n",
    "        j = np.random.randint(0, N)\n",
    "        if grid[i][j] == 0:            #place monomer if there isn't one there already\n",
    "            grid[i][j] = -num\n",
    "            num -= 1                   #decrement inside if, ensuring M monomers int total are placed\n",
    "            \n",
    "    num = M\n",
    "    while (num > 0):\n",
    "        i = np.random.randint(0, N)\n",
    "        j = np.random.randint(0, N)\n",
    "        if grid[i][j] == 0:\n",
    "            grid[i][j] = num\n",
    "            num -= 1\n",
    "    \n",
    "    return grid"
   ]
  },
  {
   "cell_type": "code",
   "execution_count": 3,
   "metadata": {},
   "outputs": [],
   "source": [
    "## Colormaps for visualising our grid\n",
    "def cMap_green_purple(lenght):\n",
    "    color_list = []\n",
    "    for i in range(0, lenght):\n",
    "        color_list.append(np.array([120 + i*100/lenght, 28, 178]) / 255) # purple\n",
    "    color_list.append(np.array([159, 220, 233]) / 255)                               # blue\n",
    "    for i in range(0, lenght):\n",
    "        color_list.append(np.array([11, 138 + i*100/lenght, 0]) / 255)   # green\n",
    "    return c.ListedColormap(color_list)\n",
    "\n",
    "def cMap_brown(lenght):\n",
    "    color_list = []\n",
    "    color_list.append(np.array([159, 220, 233]) / 255)                               # blue\n",
    "    for i in range(0, lenght):\n",
    "        color_list.append(np.array([255 - i*200/lenght, 200 - i*200/lenght, 150 - i*150/lenght]) / 255)   # orange\n",
    "    return c.ListedColormap(color_list)\n",
    "\n",
    "## Function that plots and saves the grid\n",
    "def visualize_grid(grid, file_title = False, figure_title = False, sign_only = True, \n",
    "                   cMap_function = cMap_green_purple, title_size = 30, fig_size = (10, 10)):\n",
    "    \"\"\"\n",
    "        input: grid, 2d grid of signed integers\n",
    "        function: visualizing the signed grid, different color for positive, negative and zero\n",
    "        return: none\n",
    "    \"\"\"\n",
    "    # make grid have only -1, 0 and 1. [::-1,] flips the rows\n",
    "    if sign_only:\n",
    "        grid = np.sign(grid)\n",
    "    grid = grid[::-1,]\n",
    "    lenght_color_array = grid.max() \n",
    "    cMap = cMap_function(lenght_color_array)\n",
    "        \n",
    "    # plotting as a colormesh\n",
    "    fig, ax = plt.subplots(1, 1, figsize=fig_size)\n",
    "    ax.pcolormesh(grid, cmap = cMap)\n",
    "    plt.axis('off')\n",
    "    \n",
    "    # adding titles and saving file    \n",
    "    if figure_title:\n",
    "        plt.title(figure_title, size = title_size)\n",
    "    if file_title:\n",
    "        fig.savefig(f'images/{file_title}.png') # save first frame  \n",
    "    \n",
    "def animate_grid(grid_list, gif_name, ms_between_frames = 10, sign_only = True):\n",
    "    \"\"\"\n",
    "        input: list of N*N-grids, string gif_name, ms between frames, option to toggle different colors\n",
    "        output: saves\n",
    "    \"\"\" \n",
    "    # generate colormap. Flip grid.\n",
    "    if sign_only:\n",
    "        grid_list = [np.sign(grd) for grd in grid_list]\n",
    "    grid_list = [grd[::-1,] for grd in grid_list]\n",
    "    lenght_color_array = grid_list[0].max()\n",
    "    cMap = cMap_green_purple(lenght_color_array)\n",
    "    \n",
    "    # create figure and remove axis\n",
    "    fig, ax = plt.subplots(figsize = (6, 6))\n",
    "    plt.axis('off')\n",
    "    \n",
    "    # prevent duplicate animation figure\n",
    "    clear_output()\n",
    "    \n",
    "    # for some reason the function doesn't distinguish small numbers... This is a fix\n",
    "    grid_list = [grd * 1000 for grd in grid_list]\n",
    "    \n",
    "    # create objects for the graphs that will be updated every frame\n",
    "    cax = ax.pcolormesh(grid_list[0], cmap=cMap)\n",
    "    fig.savefig(f'animations/{gif_name}_0.png') # save first frame      \n",
    "    \n",
    "    # call this function for every frame in the animation\n",
    "    def animate(i):\n",
    "        # replace previous data\n",
    "        cax.set_array(grid_list[i])\n",
    "        if i % 1000 == 0:\n",
    "            print(i)\n",
    "        \n",
    "    # create matplotlib animation object\n",
    "    ani = matplotlib.animation.FuncAnimation(fig, animate, frames=len(grid_list), repeat=False, interval = ms_between_frames)\n",
    "    ani.save(f'animations/{gif_name}.gif')\n",
    "    fig.savefig(f'animations/{gif_name}_1.png') # save last frame"
   ]
  },
  {
   "cell_type": "markdown",
   "metadata": {},
   "source": [
    "Now we will implement energy function ..."
   ]
  },
  {
   "cell_type": "markdown",
   "metadata": {},
   "source": [
    "### 1d\n",
    "\n",
    "$$V_{kl} = ... = $$\n",
    "\n",
    "Energy given by ... approximations ...:\n",
    "\n",
    "$$V_{kl} = \\begin{cases} w_k w_l α & \\text{if } \\vec{r}_k \\text{ and } \\vec{r}_l \\text{ are NN,}\\\\ \n",
    "0 & \\text{otherwise}.\\end{cases}$$\n",
    "\n",
    "For en rute i griden er altså energien gitt som:\n",
    "\n",
    "$$V_{rute} = \\sum_{NN} w_{rute}w_{NN}\\alpha = w_{rute}\\alpha\\sum_{NN}w_{NN}$$\n",
    "Alt vi trenger er altså nettoladning til naboer $\\cdot$ ladning til ruta $\\cdot$ en konstant.\n",
    "For å få tall av fin størrelsesorden innfører vi den dimmensjonsløse energistørrelsen $V/\\alpha$."
   ]
  },
  {
   "cell_type": "code",
   "execution_count": 4,
   "metadata": {},
   "outputs": [],
   "source": [
    "##1d\n",
    "import time\n",
    "@jit(nopython=True)\n",
    "def total_energy(grid):\n",
    "    \"\"\"\n",
    "        input: grid of size (N x N)\n",
    "        output: total energy of grid / alpha\n",
    "    \"\"\"\n",
    "    # create grid of charge signs\n",
    "    sign_grid = np.sign(grid)\n",
    "    E = sign_grid[0] * 0\n",
    "    # energy between each square and top, bottom, left and right neighbour\n",
    "    for row in sign_grid:\n",
    "        E += row*np.roll(row, -1)\n",
    "        E += row*np.roll(row, 1)\n",
    "    for row in sign_grid.T:\n",
    "        E += row*np.roll(row, -1)\n",
    "        E += row*np.roll(row, 1)\n",
    "        \n",
    "    return 1/2 * np.sum(E) #account for double count\n",
    "\n",
    "\n",
    "########## LAGRE GRID I 1b og BEREGN ENERGIEN HER!!!!!!!!!"
   ]
  },
  {
   "cell_type": "code",
   "execution_count": 5,
   "metadata": {},
   "outputs": [],
   "source": [
    "## Define a function that locates the 4 nearest neigbours with periodic boundary contition\n",
    "@jit(nopython=True)\n",
    "def nearest_neighbours(i, j, N):\n",
    "    \"\"\"\n",
    "        input: int i, int j, int N. (i, j) is a coordinate in a grid, N is the size of the grid (N x N)\n",
    "        output: list of the four neighboring points of (i, j). Right side connected to left and top to bottom\n",
    "    \"\"\"\n",
    "    top = [i, (j-1+N)%N]\n",
    "    right = [(i+1)%N, j]\n",
    "    bottom = [i, (j +1)%N]\n",
    "    left = [(i-1 + N)%N, j]\n",
    "    return [top, right, bottom, left]"
   ]
  },
  {
   "cell_type": "code",
   "execution_count": 6,
   "metadata": {},
   "outputs": [],
   "source": [
    "N, M = [5, 10, 15], [6, 15, 30]\n",
    "grid_list = []\n",
    "for i in range(3):\n",
    "    n, m = N[i], M[i]\n",
    "    grid = generate_grid_of_monomers(n, m)\n",
    "    grid_list.append(grid)\n",
    "    e = total_energy(grid)\n",
    "    #visualize_grid(grid, file_title = f\"1a_figure_{i+1}\", figure_title = f\"Grid with N={n}, M={m} and E={e} α\", title_size = 30)"
   ]
  },
  {
   "cell_type": "markdown",
   "metadata": {},
   "source": [
    "Show the figure bla bla bla\n",
    "Energy can be verified by adding up -1 * # different colored bonds + # same colored bonds\n",
    "\n",
    "\n",
    "||||\n",
    ":-------------------------:|:-------------------------:|:-------------------------:\n",
    "![](https://i.imgur.com/gxThN9U.png)  |  ![](https://i.imgur.com/FZpNxZ7.png)  |  ![](https://i.imgur.com/487hP4I.png)  |\n",
    "\n"
   ]
  },
  {
   "cell_type": "markdown",
   "metadata": {},
   "source": [
    "## Monomer simulation <a class=\"anchor\" id=\"monomer\"></a>"
   ]
  },
  {
   "cell_type": "code",
   "execution_count": 108,
   "metadata": {},
   "outputs": [],
   "source": [
    "##1e\n",
    "def load_file(Ns, N, M, T, sim_id=\"\"):\n",
    "    return np.load(f'data/Ns={Ns} N={N} M={M} T={T} {sim_id}.npz')\n",
    "\n",
    "@jit(nopython=True)\n",
    "def swap(grid, coord1, coord2):\n",
    "    x1, y1 = coord1\n",
    "    x2, y2 = coord2\n",
    "    \n",
    "    temp_val = grid[x1][y1]\n",
    "    grid[x1][y1] = grid[x2][y2]\n",
    "    grid[x2][y2] = temp_val\n",
    "\n",
    "@jit(nopython=True)\n",
    "def move_monomer(coords, direction, grid):\n",
    "    neighbours = nearest_neighbours(i=coords[0], j=coords[1], N=grid.shape[0])\n",
    "    move = neighbours[direction]\n",
    "    move_val = grid[move[0]][move[1]]\n",
    "\n",
    "    return move, move_val==0\n",
    "\n",
    "@jit(nopython=True)\n",
    "def monte_carlo_sim(Ns, N, M, T, grid, fill_grid_list = False):\n",
    "    e = np.zeros(Ns, dtype=\"float64\") #list of the energies\n",
    "    E = total_energy(grid)\n",
    "    e[0] = E\n",
    "#     grids = [grid]\n",
    "    grids = np.zeros((Ns, N, N), dtype=np.dtype('i2'))\n",
    "    for i in range(Ns):\n",
    "        monomer = np.random.randint(1, M+1)\n",
    "        sign = int(2*(np.random.randint(2) - 0.5))\n",
    "        monomer_coordinates = np.argwhere(grid==monomer*sign)[0]\n",
    "        direction = np.random.randint(0, 4) # 0: up, 1: right, 2: down, 3: left\n",
    "        move, legal_move = move_monomer(monomer_coordinates, direction, grid)\n",
    "        if legal_move:\n",
    "            swap(grid, move, monomer_coordinates)\n",
    "            Enew = total_energy(grid)\n",
    "            if Enew < E:\n",
    "                E = Enew \n",
    "            elif np.random.random() < np.exp(-k_energy*(Enew-E)/T):\n",
    "                E = Enew\n",
    "            else:\n",
    "                swap(grid, move, monomer_coordinates) # swapping back if the grid shouldnt be updated\n",
    "        if fill_grid_list:\n",
    "#             grids.append(grid)\n",
    "            grids[i] = grid\n",
    "        e[i] = E\n",
    "\n",
    "    return e, grids\n",
    "\n",
    "N, M = 20, 50\n",
    "grid = generate_grid_of_monomers(N, M)\n",
    "Ns = 5000\n",
    "#e, grids = monte_carlo_sim(Ns, )\n",
    "#animate_grid()"
   ]
  },
  {
   "cell_type": "markdown",
   "metadata": {},
   "source": [
    "\n",
    "\n",
    "\n",
    "We can demonstrate the algorithm using our animation function\n",
    "\n",
    "When it slows down it is checking unaccepted moves\n",
    "\n",
    "|Grid before alogithm | Grid during algorithm | Grid after algorithm |\n",
    ":-------------------------:|:-------------------------:|:-------------------------:\n",
    "![](https://i.imgur.com/Ng1Curt.png)  |  ![](https://i.imgur.com/mtmG5pb.gif)  |  ![](https://i.imgur.com/7zHw3Zs.png)  |\n",
    "\n"
   ]
  },
  {
   "cell_type": "code",
   "execution_count": 8,
   "metadata": {},
   "outputs": [],
   "source": [
    "##1f\n",
    "# Ns = 50000\n",
    "# N = 15\n",
    "# M = 25\n",
    "# T = 200\n",
    "# grid1 = generate_grid_of_monomers(N, M)\n",
    "# grid2 = grid1.copy()\n",
    "# print(\"grid made\")\n",
    "# e, grids = monte_carlo_sim(Ns, N, M, T, grid1, fill_grid_list = True)\n",
    "# print(\"simulation done\")\n",
    "# np.savez('T200+grids.npz', e=e, grids=grids)\n",
    "# print(\"file saved\")\n",
    "\n",
    "# T = 500\n",
    "# e, grids = monte_carlo_sim(Ns, N, M, T, grid2, fill_grid_list = True)\n",
    "# print(\"simulation done\")\n",
    "# np.savez('T500+grids.npz', e=e, grids=grids)\n",
    "# print(\"file saved\")\n",
    "\n",
    "def plot_function(x_vals_list, y_vals_list, file_title, errorbars = np.array([0]), title = \"\", \n",
    "                  xlabel = \"\", ylabel = \"\", fig_size = (9, 5), title_scale_factor = 80,\n",
    "                  labels = False, loc = \"upper right\"):\n",
    "    fig = plt.figure(figsize=fig_size)        \n",
    "    if errorbars.any():\n",
    "        plt.errorbar(x_vals_list[0], y_vals_list[0], yerr = errorbars)\n",
    "    else:\n",
    "        fig = plt.figure(figsize=fig_size)\n",
    "    for i in range(len(y_vals_list)):\n",
    "        if labels:\n",
    "            plt.plot(x_vals_list[i], y_vals_list[i], label = labels[i])\n",
    "        else:\n",
    "            plt.plot(x_vals_list[i], y_vals_list[i])\n",
    "    title_size = int(title_scale_factor * fig_size[0] / len(title))\n",
    "    plt.title(title, size = title_size)\n",
    "    label_size = int(2/3 * title_size)\n",
    "    plt.xlabel(xlabel, size = label_size)\n",
    "    plt.ylabel(ylabel, size = label_size)\n",
    "    if labels:\n",
    "        plt.legend(loc = loc)\n",
    "    fig.savefig(f'images/{file_title}.png') # save first frame  \n",
    "\n",
    "# data200 = np.load('T200+grids.npz')\n",
    "# data500 = np.load('T500+grids.npz')\n",
    "\n",
    "# plot_function([np.arange(1, 50001, 1), np.arange(1, 50001, 1)], [data200['e'], data500['e']], \n",
    "#                \"EnergyDev50000\", title = \"Energy development\", title_scale_factor=55,\n",
    "#               xlabel = \"iterations\", ylabel = r\"E / $\\alpha$\", fig_size = (8, 4),\n",
    "#               labels = [\"T = 200 K\", \"T = 500 K\"], loc = \"lower left\")\n"
   ]
  },
  {
   "cell_type": "markdown",
   "metadata": {},
   "source": [
    "\\\n",
    "\\\n",
    "**MÅ FINNE EN MÅTE Å \"DETERMINE VISUALLY NUMBER OF STEPS!!!\"**\n",
    "\\\n",
    "\\\n",
    "![](https://i.imgur.com/sH4a4AL.png)\n",
    "\\\n",
    "\\\n",
    "\n",
    "From the plot we can se that it takes approximately **x_1** MC steps for the system with temperature **T_1** to reach its equilibrium, while the system with temperature **T_2** takes **x_2** steps to reach equilibrium. From our implementation of the MC algorithm we can se that a higher temperature increases the probability of a monomer making a move which increases the total energy of the system. This explains why the energy of system 2 varies more after reaching its equilibrium. **(Mer om hvorfor de er forskjellige, og hvorfor det stemmer med fysikken.)**\\\n",
    "\\\n",
    "\\\n",
    "\\\n",
    "\\\n",
    "**ENERGY MINIMA!!!!!!!!!!!!!!!!!!!!!!!!!!!!!!!!!!!!!!!!!!!!**\n",
    "\\\n",
    "\\\n",
    "\\\n",
    "\\\n",
    "\\\n",
    "\\"
   ]
  },
  {
   "cell_type": "code",
   "execution_count": 9,
   "metadata": {},
   "outputs": [],
   "source": [
    "#temperatures = np.li"
   ]
  },
  {
   "cell_type": "markdown",
   "metadata": {},
   "source": [
    "## Cluster formation <a class=\"anchor\" id=\"cluster\"></a>"
   ]
  },
  {
   "cell_type": "code",
   "execution_count": 10,
   "metadata": {},
   "outputs": [],
   "source": [
    "##1g\n",
    "@jit(nopython=True)\n",
    "def add_to_cluster(i, j, num, grid, cluster_grid):\n",
    "    #adds index i,j and all connected monomers to cluster identified by num on the cluster_grid\n",
    "    if cluster_grid[i][j] == 0 and grid[i][j] != 0:\n",
    "        cluster_grid[i][j] = num\n",
    "        neighbours = nearest_neighbours(i, j, len(grid))\n",
    "      \n",
    "        for neighbor in neighbours: \n",
    "            add_to_cluster(neighbor[0],neighbor[1], num, grid, cluster_grid)\n",
    "        \n",
    "       \n",
    "                \n",
    "@jit(nopython=True)\n",
    "def get_cluster_grid(grid):\n",
    "    #input: grid is a grid of monomers of which you want to generate a corresponding cluster grid\n",
    "    #output: grid where all monomers belonging to the same cluster are represented by the a unique positive number\n",
    "   \n",
    "    cluster_grid = np.zeros((len(grid), len(grid)), dtype=np.dtype('i2'))\n",
    "    num = 1\n",
    "                                      \n",
    "    for i in range(len(grid)):\n",
    "        for j in range(len(grid)):\n",
    "            if cluster_grid[i][j]== 0 and grid[i][j] != 0:\n",
    "                add_to_cluster(i, j, num, grid, cluster_grid)\n",
    "                num += 1\n",
    "    \n",
    "    return cluster_grid, num-1  \n",
    "\n",
    "# data200 = np.load('T200+grids.npz')\n",
    "# data500 = np.load('T500+grids.npz')\n",
    "\n",
    "# plot_function([np.arange(1, 50001, 1), np.arange(1, 50001, 1)], [data200['e'], data500['e']], \n",
    "#                \"EnergyDev50000\", title = \"Energy development\", title_scale_factor=55,\n",
    "#               xlabel = \"iterations\", ylabel = r\"E / $\\alpha$\", fig_size = (8, 4),\n",
    "#               labels = [\"T = 200 K\", \"T = 500 K\"], loc = \"lower left\")\n",
    "\n",
    "# data200 = np.load('T200+grids.npz')\n",
    "# final_grid200 = data200['grids'][-1]\n",
    "# visualize_grid(final_grid200, file_title = \"FinalGridT200\")\n",
    "\n",
    "# cluster_grid200 = get_cluster_grid(final_grid200)[0]\n",
    "# visualize_grid(cluster_grid200, file_title = \"Cluster_FinalGridT200\", cMap_function = cMap_brown, sign_only = False)"
   ]
  },
  {
   "cell_type": "markdown",
   "metadata": {},
   "source": [
    "|Monomer grid | Cluster grid |\n",
    ":-------------------------:|:-------------------------:|\n",
    "![](https://i.imgur.com/CNhBHEA.png)  |  ![](https://i.imgur.com/57cCYfz.png)  |\n",
    "\n"
   ]
  },
  {
   "cell_type": "markdown",
   "metadata": {},
   "source": [
    "1h"
   ]
  },
  {
   "cell_type": "code",
   "execution_count": 11,
   "metadata": {},
   "outputs": [
    {
     "data": {
      "image/png": "[encoded data removed]",
      "text/plain": [
       "<Figure size 864x360 with 1 Axes>"
      ]
     },
     "metadata": {
      "needs_background": "light"
     },
     "output_type": "display_data"
    }
   ],
   "source": [
    "#1h\n",
    "\n",
    "def load_avg_d(temps, s=1/200, C=10000, t_max=100000, n=100, t_r=1000):\n",
    "    return np.load(f'data/davg/temps={temps} s={s} C={C} tmax={t_max} n={n} tr={t_r}.npz')\n",
    "    \n",
    "@jit(nopython=True)\n",
    "def average_d_sim(N, M, temps, s=1/200, C=10000, t_max=100000, n=100, t_r=1000):\n",
    "    avg_dist = np.zeros(len(temps), dtype=\"float64\")\n",
    "    std_dev  = np.zeros(len(temps), dtype=\"float64\")\n",
    "    for j in range(len(temps)):\n",
    "        print(f\"Working on temperature {j+1}/{len(temps)}\")\n",
    "        T = temps[j]\n",
    "        grid = generate_grid_of_monomers(N, M)\n",
    "        t_equil = t_max * np.exp(-s*(T - temps[0])) + C\n",
    "        Ns = int(t_equil)\n",
    "        monte_carlo_sim(Ns, N, M, T, grid)\n",
    "        d_avg = np.zeros(n, dtype=\"float64\")\n",
    "        for i in range(n):\n",
    "            monte_carlo_sim(t_r, N, M, T, grid)\n",
    "            d_avg[i] = 2*M/get_cluster_grid(grid)[1]\n",
    "            \n",
    "        avg_dist[j] = sum(d_avg) / n\n",
    "        std_dev[j]  = np.std(d_avg)\n",
    "    return avg_dist, std_dev\n",
    "\n",
    "N=15\n",
    "M=25\n",
    "\n",
    "NN = 30\n",
    "# temperatures = np.linspace(100, 1000, NN)\n",
    "# d, std = average_d_sim(N, M, temperatures, n=100)\n",
    "# np.savez(f\"data/monomer_d_sim_{NN}_1\", T=temperatures, d=d, std=std)\n",
    "\n",
    "data = np.load(f\"data/monomer_d_sim_{NN}_1.npz\")\n",
    "T = data['T']\n",
    "d = data['d']\n",
    "std = data['std']\n",
    "\n",
    "plot_function([T], [d], f\"d_and_temp_{NN}\", title = r\"$\\langle d \\rangle$ as function of temperature, run 2\", \n",
    "            xlabel = r\"$T$ [K]\", ylabel = r\"$\\langle d \\rangle$\", fig_size = (12, 5), errorbars = std)"
   ]
  },
  {
   "cell_type": "markdown",
   "metadata": {},
   "source": [
    "\\\n",
    "\n",
    "\n",
    "\\\\\n",
    "\n",
    "\\\n",
    "\\\n",
    "\\\n",
    "\\\n",
    "\\\n",
    "\n",
    "\n",
    "<td style=\"width: 50%\"> <img src=\"https://i.imgur.com/wxFlsqC.png\" alt=\"Drawing\" /> </td>\n",
    "<td style=\"width: 50%\"> <img src=\"https://i.imgur.com/4R76zXZ.png\" alt=\"Drawing\" /> </td>\n",
    "\n",
    "\n",
    "\n",
    "**NEED ONE MORE, compare, discrepancy at low T +++**\n"
   ]
  },
  {
   "cell_type": "markdown",
   "metadata": {},
   "source": [
    "As we can see from the plot, <d> is larger at lower temperatures. This is because when the temperature is lower, the probability of making a move that increases the energy of the system is lower. A move that would increase the energy of the system would be a monomer disconnecting from a cluster. At higher temperatures the probability of making such a move is higher, therefore explaining the discrepancy between <d> at the different temperatures. (var noen av resultatene overraskende ?). At lower temperatures the probability of monomers breaking off from a cluster and forming a new cluster is smaller, because such a move would temporarily increase the energy of the system. This is more likely to happen at higher temperatures where the probability of increasing the energy is larger. Therefore, the results are more dependent on the initial conditions, which are randomized, when the temperature is lower. This can explain why the discrepancy between the simulations is larger at lower temperatures. "
   ]
  },
  {
   "cell_type": "markdown",
   "metadata": {},
   "source": [
    "**DISCUSS CHOICE OF N, surprising results, **"
   ]
  },
  {
   "cell_type": "markdown",
   "metadata": {},
   "source": [
    "## Polymer simulation <a class=\"anchor\" id=\"polymer\"></a>"
   ]
  },
  {
   "cell_type": "markdown",
   "metadata": {},
   "source": [
    "2a fra nå av er a = 91 $\\mu m$\\\n",
    "\\\n",
    "\\\n",
    "\\\n",
    "When studying the polymer system, we will again make the assumption that there are no interactions between monomers not directly adjacent to each other. In addition, all interactions between monomers belonging to the same polymer will be set to zero, as it will make the simulation less computationally demanding. We will also assume that polymers cannot be broken, meaning that there will always be a path between any two monomers belonging to the same polymer, and this path contains only monomers of that same polymer. \n"
   ]
  },
  {
   "cell_type": "markdown",
   "metadata": {},
   "source": []
  },
  {
   "cell_type": "code",
   "execution_count": 12,
   "metadata": {},
   "outputs": [],
   "source": [
    "a = 91.0e-6\n",
    "alpha = sc.e **2 / (4 * np.pi * epsilon0*epsilonr*a**2)\n",
    "k_energy = alpha/bolzmann\n",
    "\n",
    "@jit(nopython=True)\n",
    "def build_polymer(grid, N, L, num):\n",
    "    # next we place L-1 monomers around it\n",
    "    num2 = L - 1\n",
    "    max_iter = N*N*N\n",
    "    while (num2 > 0):\n",
    "        i2 = np.random.randint(0, N) \n",
    "        j2 = np.random.randint(0, N)\n",
    "        neighbours   = nearest_neighbours(i2, j2, N)\n",
    "        neighbourNum = [grid[neigh[0]][neigh[1]] for neigh in neighbours]\n",
    "        if grid[i2][j2] == 0 and num in neighbourNum:\n",
    "            grid[i2][j2] = num\n",
    "            num2 -= 1\n",
    "        else:\n",
    "            max_iter -= 1\n",
    "            if (max_iter == 0):\n",
    "                return False\n",
    "    return True\n",
    "\n",
    "@jit(nopython=True)\n",
    "def generate_grid_of_polymers(N, M, L):\n",
    "    \"\"\"\n",
    "        input: int N, M, L: N is grid-dimension. \n",
    "        M is #polymers. L is multivalency\n",
    "        output: N x N grid of polymers.\n",
    "    \"\"\"\n",
    "    grid = np.zeros((N, N), dtype=np.dtype('i2'))\n",
    "    \n",
    "    num = M\n",
    "    while (num > 0):\n",
    "        i = np.random.randint(0, N) # choose random coordinates to place first monomer\n",
    "        j = np.random.randint(0, N)\n",
    "        if grid[i][j] == 0:         # place monomer if there isn't one there already\n",
    "            grid[i][j] = -num\n",
    "            if build_polymer(grid, N, L, -num):\n",
    "                num -= 1 #decrement inside if, ensuring M polymers in total are placed\n",
    "            else:\n",
    "                for monomer in np.argwhere(grid==-num):\n",
    "                    i, j = monomer\n",
    "                    grid[i][j] = 0\n",
    "\n",
    "                    \n",
    "    num = M\n",
    "    while (num > 0):\n",
    "        i = np.random.randint(0, N)\n",
    "        j = np.random.randint(0, N)\n",
    "        if grid[i][j] == 0:\n",
    "            grid[i][j] = num\n",
    "            if build_polymer(grid, N, L, num):\n",
    "                num -= 1\n",
    "            else:\n",
    "                for monomer in np.argwhere(grid==num):\n",
    "                    i, j = monomer\n",
    "                    grid[i][j] = 0\n",
    "    \n",
    "    return grid"
   ]
  },
  {
   "cell_type": "code",
   "execution_count": 56,
   "metadata": {},
   "outputs": [
    {
     "name": "stdout",
     "output_type": "stream",
     "text": [
      "1\n",
      "[[ 2  0 -1  0  0  2]\n",
      " [ 2  2 -1 -2  0  0]\n",
      " [ 2 -1 -1 -2  0  0]\n",
      " [ 0 -1  0 -2 -2 -2]\n",
      " [ 0  1  0  0  0  1]\n",
      " [ 1  1  0  0  0  1]]\n",
      "-1.0\n"
     ]
    },
    {
     "data": {
      "image/png": "[encoded data removed]",
      "text/plain": [
       "<Figure size 720x720 with 1 Axes>"
      ]
     },
     "metadata": {
      "needs_background": "light"
     },
     "output_type": "display_data"
    }
   ],
   "source": [
    "@jit(nopython=True)\n",
    "def polymer_total_energy(grid):\n",
    "    N = grid.shape[0]\n",
    "    E = 0\n",
    "    for i in range(N):\n",
    "        for j in range(N):\n",
    "            \n",
    "            neighbours = nearest_neighbours(i, j, N)\n",
    "            current_cluster_val = grid[i][j]\n",
    "            for neighbor in neighbours:\n",
    "                xcoord, ycoord = neighbor\n",
    "                if grid[xcoord][ycoord] != current_cluster_val:\n",
    "                    E += np.sign(current_cluster_val*grid[xcoord][ycoord])\n",
    "    return E/2\n",
    "print(np.sign(-12*-23))\n",
    "grid = generate_grid_of_polymers(6, 2, 5)\n",
    "print(grid)\n",
    "print(polymer_total_energy(grid))\n",
    "visualize_grid(grid, sign_only=False)"
   ]
  },
  {
   "cell_type": "code",
   "execution_count": 14,
   "metadata": {},
   "outputs": [],
   "source": [
    "# N, M, L = [10, 15, 25], [2, 4, 6], [10, 20, 30]\n",
    "# for i in range(3):\n",
    "#     n, m, l = N[i], M[i], L[i]\n",
    "#     grid = generate_grid_of_polymers(n, m, l)\n",
    "#     e = polymer_total_energy(grid)\n",
    "#     visualize_grid(grid, file_title = f\"2a_figure_{i+1}\", figure_title = f\"Grid with N={n}, M={m}, L={l} and E={e} α\", \n",
    "#                    title_size = 25, sign_only = False)"
   ]
  },
  {
   "cell_type": "markdown",
   "metadata": {},
   "source": [
    "||||\n",
    ":-------------------------:|:-------------------------:|:-------------------------:\n",
    "![](https://i.imgur.com/o3kthLy.png)  |  ![](https://i.imgur.com/7heNuoA.png)  |  ![](https://i.imgur.com/lg0OIQi.png)  |"
   ]
  },
  {
   "cell_type": "markdown",
   "metadata": {},
   "source": []
  },
  {
   "cell_type": "code",
   "execution_count": 15,
   "metadata": {},
   "outputs": [],
   "source": [
    "@jit(nopython=True)\n",
    "def rigid_move_polymer(direction, num, grid):\n",
    "    #input: direction represented by an int, num is a unique int identifying the polymer, and the grid of polymers\n",
    "    size = grid.shape[0]\n",
    "    polymer = np.argwhere(grid==num)\n",
    "    for monomer in polymer: \n",
    "        neighbor = nearest_neighbours(monomer[0], monomer[1], size)[direction]\n",
    "        i = neighbor[0]\n",
    "        j = neighbor[1]\n",
    "        \n",
    "        if (grid[i][j] != 0 and grid[i][j] != num):\n",
    "            return False\n",
    "    \n",
    "    for monomer in polymer:\n",
    "        neighbor = nearest_neighbours(monomer[0], monomer[1], size)[direction]\n",
    "        i = neighbor[0]\n",
    "        j = neighbor[1]\n",
    "        \n",
    "        grid[i][j] += num\n",
    "        grid[monomer[0]][monomer[1]] -= num\n",
    "                     \n",
    "    return True"
   ]
  },
  {
   "cell_type": "code",
   "execution_count": 100,
   "metadata": {},
   "outputs": [
    {
     "name": "stdout",
     "output_type": "stream",
     "text": [
      "(4, 4)\n",
      "[[[ 0  0  0  0]\n",
      "  [ 0  0  0  0]\n",
      "  [ 0  0  0  0]\n",
      "  [ 0  0  0  0]]\n",
      "\n",
      " [[ 0  0  0  0]\n",
      "  [ 0  0  0  0]\n",
      "  [ 0  0  0  0]\n",
      "  [ 0  0  0  0]]\n",
      "\n",
      " [[ 0  0  0  0]\n",
      "  [ 1  1  0  0]\n",
      "  [ 0 -1 -1  0]\n",
      "  [ 0  0  0  0]]]\n"
     ]
    }
   ],
   "source": [
    "@jit(nopython=True)\n",
    "def monte_carlo_sim_polymer(Ns, N, M, T, grid, move_function, fill_grid_list = False):\n",
    "    e = np.zeros(Ns, dtype=\"float64\") #list of the energies\n",
    "    E = polymer_total_energy(grid)\n",
    "    e[0] = E\n",
    "#     grids = [grid]\n",
    "    grids = np.zeros((Ns, N, N), dtype=np.dtype('i2'))\n",
    "    for i in range(Ns):\n",
    "        polymer = int(2*(np.random.randint(2) - 0.5)) * np.random.randint(1, M+1) # sign * num\n",
    "        direction = np.random.randint(0, 4) # 0: up, 1: right, 2: down, 3: left\n",
    "        grid0 = grid.copy()\n",
    "        legal_move = move_function(direction, polymer, grid)\n",
    "        if legal_move:\n",
    "            Enew = polymer_total_energy(grid)\n",
    "            if Enew < E:\n",
    "                E = Enew \n",
    "            elif np.random.random() < np.exp(-k_energy*(Enew-E)/T):\n",
    "                E = Enew\n",
    "            else:\n",
    "                grid = grid0\n",
    "        e[i] = E\n",
    "        if fill_grid_list:\n",
    "#             grids.append(grid)\n",
    "            grids[i] = grid\n",
    "    return e, grids\n",
    "\n",
    "grid = generate_grid_of_polymers(4, 1, 2)\n",
    "print(grid.shape)\n",
    "s = np.zeros((3, 4, 4), dtype=np.dtype('i2'))\n",
    "s[-1] = grid\n",
    "print(s)"
   ]
  },
  {
   "cell_type": "code",
   "execution_count": 17,
   "metadata": {},
   "outputs": [],
   "source": [
    "@jit(nopython=True)\n",
    "def contains(polymer, monomer0):\n",
    "    for monomer in polymer:\n",
    "        if monomer[0] == monomer0[0] and monomer[1] == monomer0[1]:\n",
    "            return True\n",
    "    return False\n",
    "\n",
    "@jit(nopython=True)\n",
    "def depth_first_search(monomer, num, grid, visited, index):\n",
    "    if contains(visited, monomer) or index == visited.shape[0]:\n",
    "        return\n",
    "    visited[index[0]] = monomer\n",
    "    index += 1\n",
    "    for neighbour in nearest_neighbours(monomer[0], monomer[1], grid.shape[0]):\n",
    "        if grid[neighbour[0]][neighbour[1]] == num:\n",
    "            depth_first_search(neighbour, num, grid, visited, index)\n",
    "    return\n",
    "\n",
    "@jit(nopython=True)\n",
    "def polymer_is_broken(polymer, num, grid, L):\n",
    "    visited = -np.ones(polymer.shape, dtype=np.dtype('i2'))\n",
    "    index = np.zeros(1, dtype=np.dtype('i2'))\n",
    "    depth_first_search(polymer[0], num, grid, visited, index)\n",
    "    return index[0] != L\n",
    "    \n",
    "@jit(nopython=True)\n",
    "def medium_flex_move(direction, num, grid):\n",
    "    N = grid.shape[0]\n",
    "    polymer = np.argwhere(grid==num)\n",
    "    L = polymer.shape[0]\n",
    "    neighbours = np.zeros(polymer.shape, dtype=np.dtype('i2'))\n",
    "    illegals = np.zeros(N)\n",
    "    row_to_move = direction%2\n",
    "    \n",
    "    for i in range(L):\n",
    "        monomer = polymer[i]\n",
    "        neighbours[i] = nearest_neighbours(monomer[0], monomer[1], N)[direction]\n",
    "        x, y = neighbours[i]\n",
    "        if grid[x][y] != 0 and grid[x][y] != num:\n",
    "            illegals[neighbours[i][row_to_move]] = 1\n",
    "    \n",
    "    \n",
    "    for monomer, neighbour in zip(polymer, neighbours):\n",
    "        index = monomer[row_to_move]\n",
    "        if illegals[index] == 0:\n",
    "            i, j = monomer\n",
    "            x, y = neighbour\n",
    "            grid[i][j] -= num\n",
    "            grid[x][y] += num\n",
    "    \n",
    "    new_polymer = np.argwhere(grid==num)\n",
    "    if polymer_is_broken(new_polymer, num, grid, L):\n",
    "        for monomer in new_polymer:\n",
    "            grid[monomer[0]][monomer[1]] = 0\n",
    "        for monomer in polymer:\n",
    "            grid[monomer[0]][monomer[1]] = num\n",
    "        return False\n",
    "    \n",
    "    return True"
   ]
  },
  {
   "cell_type": "markdown",
   "metadata": {},
   "source": [
    "JUSTIFY tequil and n\n",
    "\\\n",
    "\\\n",
    "\\\n"
   ]
  },
  {
   "cell_type": "code",
   "execution_count": 99,
   "metadata": {},
   "outputs": [
    {
     "name": "stdout",
     "output_type": "stream",
     "text": [
      "1\n",
      "new_func\n",
      "2\n",
      "3\n",
      "new_func\n",
      "4\n"
     ]
    }
   ],
   "source": [
    "L = 12\n",
    "M = 2\n",
    "T = 200 * 1/16\n",
    "N = 15\n",
    "Ns = 30000\n",
    "grid1 = generate_grid_of_polymers(N, M, L)\n",
    "grid2 = grid1.copy()\n",
    "print(1)\n",
    "e1, grids1 = monte_carlo_sim_polymer(Ns, N, M, T, grid1, rigid_move_polymer, fill_grid_list=True)\n",
    "print(2)\n",
    "np.savez('data/EnergyTestRigid.npz', e=e1, grids=grids1)\n",
    "print(3)\n",
    "e2, grids2 = monte_carlo_sim_polymer(Ns, N, M, T, grid2, medium_flex_move, fill_grid_list=True)\n",
    "print(4)\n",
    "np.savez('data/EnergyTestFlex.npz', e=e2, grids=grids2)"
   ]
  },
  {
   "cell_type": "code",
   "execution_count": 19,
   "metadata": {},
   "outputs": [
    {
     "name": "stderr",
     "output_type": "stream",
     "text": [
      "MovieWriter ffmpeg unavailable; using Pillow instead.\n"
     ]
    },
    {
     "name": "stdout",
     "output_type": "stream",
     "text": [
      "0\n",
      "0\n",
      "1000\n",
      "2000\n",
      "3000\n",
      "4000\n",
      "5000\n",
      "6000\n",
      "7000\n",
      "8000\n",
      "9000\n",
      "10000\n",
      "11000\n",
      "12000\n",
      "13000\n",
      "14000\n",
      "15000\n",
      "16000\n",
      "17000\n",
      "18000\n",
      "19000\n",
      "20000\n",
      "21000\n",
      "22000\n",
      "23000\n",
      "24000\n",
      "25000\n",
      "26000\n",
      "27000\n",
      "28000\n",
      "29000\n",
      "30000\n"
     ]
    },
    {
     "data": {
      "image/png": "[encoded data removed]",
      "text/plain": [
       "<Figure size 432x432 with 1 Axes>"
      ]
     },
     "metadata": {
      "needs_background": "light"
     },
     "output_type": "display_data"
    },
    {
     "data": {
      "image/png": "[encoded data removed]",
      "text/plain": [
       "<Figure size 432x432 with 1 Axes>"
      ]
     },
     "metadata": {
      "needs_background": "light"
     },
     "output_type": "display_data"
    }
   ],
   "source": [
    "data1 = np.load('data/RigidPolymerGridsColdAF.npz')\n",
    "data2 = np.load('data/FlexPolymerGridsColdAF.npz')\n",
    "grids1 = data1['grids']\n",
    "grids2 = data2['grids']\n",
    "\n",
    "#animate_grid(grids1, 'RigidAnim30000ColdAF', sign_only = False)\n",
    "#animate_grid(grids2, 'FlexAnim30000ColdAF', sign_only = False)\n"
   ]
  },
  {
   "cell_type": "code",
   "execution_count": 107,
   "metadata": {},
   "outputs": [
    {
     "data": {
      "image/png": "[encoded data removed]",
      "text/plain": [
       "<Figure size 432x288 with 1 Axes>"
      ]
     },
     "metadata": {
      "needs_background": "light"
     },
     "output_type": "display_data"
    }
   ],
   "source": [
    "data1 = np.load('data/EnergyTestRigid.npz')\n",
    "data2 = np.load('data/EnergyTestFlex.npz')\n",
    "e1 = data1['e']\n",
    "e2 = data2['e']\n",
    "\n",
    "\n",
    "min_index = np.argwhere(e2==min(e2))[0][0]\n",
    "\n",
    "grids2 = data2['grids']\n",
    "\n",
    "e_list = np.array([polymer_total_energy(g0) for g0 in grids2])\n",
    "\n",
    "# plt.plot(e2, label=\"e2\")\n",
    "# plt.plot(e_list, label=\"e\")\n",
    "plt.plot(e2-e_list, label=\"diff\")\n",
    "plt.legend()\n",
    "plt.show()\n",
    "\n",
    "# for i, elem in enumerate(e_list):\n",
    "#     if elem == -46:\n",
    "#         print(i, elem)\n",
    "    \n",
    "# min_index = np.argwhere(e_list==min(e_list))\n",
    "# # print(min_index)\n",
    "# min_index = min_index[0][0]\n",
    "\n",
    "# print(f'min_index: {min_index}, energy: {e_list[min_index]}')\n",
    "# print(f'last_index: {-1}, energy: {e_list[-1]}')\n",
    "# visualize_grid(grids2[min_index], sign_only=False)\n",
    "# plt.show()\n",
    "# visualize_grid(grids2[-1], sign_only=False)\n",
    "# plt.show()\n",
    "# plt.plot(e1)\n",
    "# plt.show()\n",
    "# plt.plot(e2)"
   ]
  },
  {
   "cell_type": "code",
   "execution_count": 21,
   "metadata": {},
   "outputs": [
    {
     "name": "stdout",
     "output_type": "stream",
     "text": [
      "2\n",
      "3\n"
     ]
    },
    {
     "data": {
      "image/png": "[encoded data removed]",
      "text/plain": [
       "<Figure size 432x288 with 1 Axes>"
      ]
     },
     "metadata": {
      "needs_background": "light"
     },
     "output_type": "display_data"
    },
    {
     "data": {
      "text/plain": [
       "[<matplotlib.lines.Line2D at 0x2b2765bab50>]"
      ]
     },
     "execution_count": 21,
     "metadata": {},
     "output_type": "execute_result"
    },
    {
     "data": {
      "image/png": "[encoded data removed]",
      "text/plain": [
       "<Figure size 432x288 with 1 Axes>"
      ]
     },
     "metadata": {
      "needs_background": "light"
     },
     "output_type": "display_data"
    }
   ],
   "source": [
    "T = 200\n",
    "e1, grids1 = monte_carlo_sim_polymer(Ns, N, M, T, grid1, rigid_move_polymer, fill_grid_list=True)\n",
    "print(2)\n",
    "print(3)\n",
    "e2, grids2 = monte_carlo_sim_polymer(Ns, N, M, T, grid2, medium_flex_move, fill_grid_list=True)\n",
    "plt.plot(e1)\n",
    "plt.show()\n",
    "plt.plot(e2)"
   ]
  },
  {
   "cell_type": "markdown",
   "metadata": {},
   "source": [
    "\n",
    "<table><tr>\n",
    "<td> <img src=\"animations/polymer_anim_0.png\" alt=\"Drawing\" style=\"width: 250px;\"/> </td>\n",
    "<td> <img src=\"animations/polymer_anim.gif\" alt=\"Drawing\" style=\"width: 250px;\"/> </td>\n",
    "<td> <img src=\"animations/polymer_anim_1.png\" alt=\"Drawing\" style=\"width: 250px;\"/> </td>\n",
    "</tr></table>\n",
    "\n"
   ]
  },
  {
   "cell_type": "code",
   "execution_count": 22,
   "metadata": {},
   "outputs": [],
   "source": [
    "# plt.plot(e1)\n",
    "# plt.show()\n",
    "# plt.plot(e2)"
   ]
  },
  {
   "cell_type": "markdown",
   "metadata": {},
   "source": [
    "## Aggregate formation <a class=\"anchor\" id=\"aggregate\"></a>"
   ]
  },
  {
   "cell_type": "code",
   "execution_count": 23,
   "metadata": {},
   "outputs": [
    {
     "data": {
      "application/vnd.jupyter.widget-view+json": {
       "model_id": "2a1f6e3e9ab447ab8b330c2cb02bdfb6",
       "version_major": 2,
       "version_minor": 0
      },
      "text/plain": [
       "  0%|          | 0/13 [00:00<?, ?it/s]"
      ]
     },
     "metadata": {},
     "output_type": "display_data"
    }
   ],
   "source": [
    "def average_dL_sim(N, M, T, lengths, s=1/200, C=10000, t_max=100000, n=100, t_r=1000, move_function = medium_flex_move):\n",
    "    avg_distL = np.zeros(len(lengths), dtype=\"float64\")\n",
    "    std_dev   = np.zeros(len(lengths), dtype=\"float64\")\n",
    "    for j in tqdm(range(len(lengths))):\n",
    "        L = lengths[j]\n",
    "        grid = generate_grid_of_polymers(N, M, L)\n",
    "        t_equil = t_max * np.exp(-s*(T - 100)) + C # REF TEMP 100 CHEDK LATER\n",
    "        Ns = int(t_equil)\n",
    "        monte_carlo_sim_polymer(Ns, N, M, T, grid, move_function)\n",
    "        dL_avg = np.zeros(n, dtype=\"float64\")\n",
    "        for i in range(n):\n",
    "            monte_carlo_sim_polymer(t_r, N, M, T, grid, move_function)\n",
    "            dL_avg[i] = 2*M/(get_cluster_grid(grid)[1]) # FORKLARE (2ML)/(#cluster*L)\n",
    "            \n",
    "        avg_distL[j] = sum(dL_avg) / n\n",
    "        std_dev[j]  = np.std(dL_avg)\n",
    "    return avg_distL, std_dev\n",
    "\n",
    "# lengths = np.linspace(3, 39, 13).astype(int)\n",
    "# T = 300\n",
    "# N = 30\n",
    "# M = 5\n",
    "#avg_distL, std_dev = average_dL_sim(N, M, T, lengths)\n",
    "#np.savez('data/average_dL_sim.npz', avg_distL=avg_distL, std_dev=std_dev)\n",
    "\n",
    "lengths = np.linspace(3, 39, 13).astype(int)\n",
    "T = 300\n",
    "N = 25\n",
    "M = 4\n",
    "avg_distL, std_dev = average_dL_sim(N, M, T, lengths)\n",
    "np.savez('data/TEST.npz', avg_distL=avg_distL, std_dev=std_dev)\n"
   ]
  },
  {
   "cell_type": "code",
   "execution_count": 24,
   "metadata": {},
   "outputs": [
    {
     "data": {
      "image/png": "[encoded data removed]",
      "text/plain": [
       "<Figure size 504x288 with 1 Axes>"
      ]
     },
     "metadata": {
      "needs_background": "light"
     },
     "output_type": "display_data"
    },
    {
     "data": {
      "text/plain": [
       "<Figure size 504x288 with 0 Axes>"
      ]
     },
     "metadata": {},
     "output_type": "display_data"
    },
    {
     "data": {
      "image/png": "[encoded data removed]",
      "text/plain": [
       "<Figure size 504x288 with 1 Axes>"
      ]
     },
     "metadata": {
      "needs_background": "light"
     },
     "output_type": "display_data"
    }
   ],
   "source": [
    "data = np.load('data/average_dL_sim.npz')\n",
    "a_distL = data['avg_distL']\n",
    "s_dev   = data['std_dev']\n",
    "plot_function([lengths], [a_distL], 'Test_of_average_dL', errorbars = s_dev, title = \"Test of average d/L\", \n",
    "                  xlabel = \"L\", ylabel = \"d/L\", fig_size = (7, 4), title_scale_factor = 60)\n",
    "plt.show()\n",
    "plot_function([lengths], [2*M/a_distL], 'Number_of_aggregates', title = \"Number of aggregates\", \n",
    "                  xlabel = \"L\", ylabel = \"d/L\", fig_size = (7, 4), title_scale_factor = 60)"
   ]
  },
  {
   "cell_type": "code",
   "execution_count": 25,
   "metadata": {},
   "outputs": [],
   "source": [
    "# Ns = 10000\n",
    "# L = 39\n",
    "# grid = generate_grid_of_polymers(N, M, L)\n",
    "# e, grids = monte_carlo_sim_polymer(Ns, N, M, T, grid, medium_flex_move, fill_grid_list=True)\n",
    "# plt.plot(e)\n",
    "# print()"
   ]
  },
  {
   "cell_type": "code",
   "execution_count": 26,
   "metadata": {},
   "outputs": [],
   "source": [
    "# visualize_grid(grids[0])\n",
    "# visualize_grid(grids[-1])"
   ]
  },
  {
   "cell_type": "markdown",
   "metadata": {},
   "source": [
    "**Ola sin gode forklaring ...**\n",
    "\n",
    "$\\overline{d/L} = \\frac{2 L M}{N_c} / L = \\frac{2 M }{N_c}$ Hvor $N_c$ er antallet clusters. Det gir $N_c = \\frac{2M}{\\overline{d/L}}$. Plot av $N_c$ viser hvordan antallet synker med økende $L$."
   ]
  },
  {
   "cell_type": "code",
   "execution_count": null,
   "metadata": {},
   "outputs": [],
   "source": []
  },
  {
   "cell_type": "code",
   "execution_count": null,
   "metadata": {},
   "outputs": [],
   "source": []
  },
  {
   "cell_type": "markdown",
   "metadata": {},
   "source": [
    "### Varying AAAAAAAAAAAAA DIFERENT PARAMMMMMM"
   ]
  },
  {
   "cell_type": "markdown",
   "metadata": {},
   "source": [
    "Vi varierer a ...\n",
    "\n",
    "Discc\n",
    "\n",
    "Kan variere N, M, T"
   ]
  },
  {
   "cell_type": "markdown",
   "metadata": {},
   "source": [
    "## Conclusion <a class=\"anchor\" id=\"conclusion\"></a>"
   ]
  },
  {
   "cell_type": "markdown",
   "metadata": {},
   "source": [
    "We have seen\n",
    "we have shown blablabla"
   ]
  }
 ],
 "metadata": {
  "kernelspec": {
   "display_name": "Python 3 (ipykernel)",
   "language": "python",
   "name": "python3"
  },
  "language_info": {
   "codemirror_mode": {
    "name": "ipython",
    "version": 3
   },
   "file_extension": ".py",
   "mimetype": "text/x-python",
   "name": "python",
   "nbconvert_exporter": "python",
   "pygments_lexer": "ipython3",
   "version": "3.9.7"
  }
 },
 "nbformat": 4,
 "nbformat_minor": 4
}
